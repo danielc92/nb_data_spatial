{
 "cells": [
  {
   "cell_type": "markdown",
   "metadata": {},
   "source": [
    "# Calculate closest points against GNAF dataset\n",
    "\n",
    "Downloaded from https://data.gov.au/dataset/geocoded-national-address-file-g-naf\n",
    "\n",
    "Note: This example uses **GNAF 2018 AUGUST release**"
   ]
  },
  {
   "cell_type": "markdown",
   "metadata": {},
   "source": [
    "## Notes:\n",
    "- Takes in two datasets containing longitude and latitude\n",
    "- Checks which point in dataset B is closest to point in dataset A on record level and appends data from dataset B to that record.\n",
    "- Exports resulting dataframe.\n",
    "- Uses `KDtree` algorithm and pooling from `multiprocessing` to speed up run time."
   ]
  },
  {
   "cell_type": "markdown",
   "metadata": {},
   "source": [
    "## Setup"
   ]
  },
  {
   "cell_type": "markdown",
   "metadata": {},
   "source": [
    "### Import relevant modules"
   ]
  },
  {
   "cell_type": "code",
   "execution_count": 3,
   "metadata": {},
   "outputs": [
    {
     "name": "stderr",
     "output_type": "stream",
     "text": [
      "/Library/Frameworks/Python.framework/Versions/3.6/lib/python3.6/importlib/_bootstrap.py:219: RuntimeWarning: numpy.dtype size changed, may indicate binary incompatibility. Expected 96, got 88\n",
      "  return f(*args, **kwds)\n",
      "/Library/Frameworks/Python.framework/Versions/3.6/lib/python3.6/importlib/_bootstrap.py:219: RuntimeWarning: numpy.dtype size changed, may indicate binary incompatibility. Expected 96, got 88\n",
      "  return f(*args, **kwds)\n"
     ]
    }
   ],
   "source": [
    "import pandas\n",
    "import datetime\n",
    "import numpy\n",
    "import math\n",
    "from scipy import spatial\n",
    "import random\n",
    "from multiprocessing import Pool"
   ]
  },
  {
   "cell_type": "markdown",
   "metadata": {},
   "source": [
    "### Import / Create Test Data\n",
    "We need to import several tables from GNAF here, the spine, the coordinates and the street names"
   ]
  },
  {
   "cell_type": "code",
   "execution_count": 1,
   "metadata": {},
   "outputs": [],
   "source": [
    "p_address_detail = '/users/danielcorcoran/desktop/G-NAF AUGUST 2018/Standard/VIC_ADDRESS_DETAIL_psv.psv'\n",
    "p_address_default_geocode = '/users/danielcorcoran/desktop/G-NAF AUGUST 2018/Standard/VIC_ADDRESS_DEFAULT_GEOCODE_psv.psv'\n",
    "p_street_locality = '/users/danielcorcoran/desktop/G-NAF AUGUST 2018/Standard/VIC_STREET_LOCALITY_psv.psv'"
   ]
  },
  {
   "cell_type": "code",
   "execution_count": 4,
   "metadata": {},
   "outputs": [],
   "source": [
    "address_detail = pandas.read_csv(p_address_detail, sep = \"|\", low_memory = False)\n",
    "address_default_geocode = pandas.read_csv(p_address_default_geocode, sep = \"|\", low_memory = False)\n",
    "street_locality = pandas.read_csv(p_street_locality, sep = \"|\", low_memory = False)"
   ]
  },
  {
   "cell_type": "code",
   "execution_count": 5,
   "metadata": {},
   "outputs": [
    {
     "name": "stdout",
     "output_type": "stream",
     "text": [
      "(3732245, 35)\n",
      "(3732245, 7)\n",
      "(188158, 11)\n"
     ]
    }
   ],
   "source": [
    "print(address_detail.shape)\n",
    "print(address_default_geocode.shape)\n",
    "print(street_locality.shape)"
   ]
  },
  {
   "cell_type": "code",
   "execution_count": 6,
   "metadata": {},
   "outputs": [],
   "source": [
    "comparison_data_subset = pandas.merge(left=address_detail, \n",
    "                                      right = address_default_geocode, \n",
    "                                      how = 'left',\n",
    "                                      on = 'ADDRESS_DETAIL_PID')"
   ]
  },
  {
   "cell_type": "code",
   "execution_count": 7,
   "metadata": {},
   "outputs": [],
   "source": [
    "comparison_data = pandas.merge(left = comparison_data_subset,\n",
    "                              right = street_locality,\n",
    "                              on = 'STREET_LOCALITY_PID')"
   ]
  },
  {
   "cell_type": "code",
   "execution_count": 8,
   "metadata": {},
   "outputs": [],
   "source": [
    "row_count = 50000\n",
    "\n",
    "base_data = pandas.concat([pandas.Series([numpy.random.uniform(140,150) for n in range(row_count)]), \n",
    "                      pandas.Series([numpy.random.uniform(-32,-40) for n in range(row_count)])], \n",
    "                     axis = 1)\n",
    "base_data.columns = ['longitude', 'latitude']"
   ]
  },
  {
   "cell_type": "markdown",
   "metadata": {},
   "source": [
    "## Process "
   ]
  },
  {
   "cell_type": "markdown",
   "metadata": {},
   "source": [
    "### Create comparison points list"
   ]
  },
  {
   "cell_type": "code",
   "execution_count": 9,
   "metadata": {},
   "outputs": [],
   "source": [
    "comparison_data['geopoint'] = list(zip(comparison_data['LONGITUDE'], comparison_data['LATITUDE']))\n",
    "base_data['geopoint'] = list(zip(base_data['longitude'], base_data['latitude']))"
   ]
  },
  {
   "cell_type": "markdown",
   "metadata": {},
   "source": [
    "### Create Spatial KDTree Object"
   ]
  },
  {
   "cell_type": "code",
   "execution_count": 10,
   "metadata": {},
   "outputs": [],
   "source": [
    "import sys\n",
    "sys.setrecursionlimit(10000)"
   ]
  },
  {
   "cell_type": "code",
   "execution_count": 11,
   "metadata": {},
   "outputs": [],
   "source": [
    "tree = spatial.KDTree(list(comparison_data['geopoint']))"
   ]
  },
  {
   "cell_type": "markdown",
   "metadata": {},
   "source": [
    "### Helper function to return shortest distance and index using KDTree defined above"
   ]
  },
  {
   "cell_type": "code",
   "execution_count": 12,
   "metadata": {},
   "outputs": [],
   "source": [
    "def return_distance_index_closest_point(point):\n",
    "    \n",
    "    distance_index_tuple = tree.query(point)\n",
    "    return distance_index_tuple"
   ]
  },
  {
   "cell_type": "markdown",
   "metadata": {},
   "source": [
    "### Calculate results"
   ]
  },
  {
   "cell_type": "code",
   "execution_count": 13,
   "metadata": {},
   "outputs": [
    {
     "name": "stdout",
     "output_type": "stream",
     "text": [
      "Checked 50,000 base points against 3,732,245 comparison points. 186,612,250,000 Iterations\n",
      "CPU times: user 119 ms, sys: 136 ms, total: 255 ms\n",
      "Wall time: 9.85 s\n"
     ]
    }
   ],
   "source": [
    "%%time\n",
    "\n",
    "pool = Pool(6)\n",
    "results = list(pool.map(return_distance_index_closest_point, base_data['geopoint']))\n",
    "\n",
    "print(\"Checked {:,} base points against {:,} comparison points. {:,} Iterations\".format(base_data.shape[0],\n",
    "                                 comparison_data.shape[0],\n",
    "                                 base_data.shape[0] * comparison_data.shape[0]))"
   ]
  },
  {
   "cell_type": "markdown",
   "metadata": {},
   "source": [
    "### Convert results into pandas dataframe and preview results"
   ]
  },
  {
   "cell_type": "code",
   "execution_count": 14,
   "metadata": {},
   "outputs": [],
   "source": [
    "results_data = pandas.DataFrame(results, columns = ['euclidean_distance', 'comparison_index'])\n",
    "results_data['base_index'] = results_data.index"
   ]
  },
  {
   "cell_type": "markdown",
   "metadata": {},
   "source": [
    "## Join base_data, results_data and comparison_data"
   ]
  },
  {
   "cell_type": "markdown",
   "metadata": {},
   "source": [
    "### Create index columns (used to join tables)"
   ]
  },
  {
   "cell_type": "code",
   "execution_count": 15,
   "metadata": {},
   "outputs": [],
   "source": [
    "base_data['base_index'] = base_data.index\n",
    "comparison_data['comparison_index'] = comparison_data.index"
   ]
  },
  {
   "cell_type": "markdown",
   "metadata": {},
   "source": [
    "### Join base_data to results_data "
   ]
  },
  {
   "cell_type": "code",
   "execution_count": 16,
   "metadata": {},
   "outputs": [],
   "source": [
    "base_results_data = pandas.merge(left = base_data.drop('geopoint',axis = 1), \n",
    "                                 right = results_data,\n",
    "                                 how = \"left\", \n",
    "                                 on = 'base_index')"
   ]
  },
  {
   "cell_type": "markdown",
   "metadata": {},
   "source": [
    "### Join resulting table above to comparison_data"
   ]
  },
  {
   "cell_type": "code",
   "execution_count": 17,
   "metadata": {},
   "outputs": [],
   "source": [
    "final_data = pandas.merge(left = base_results_data, \n",
    "                          right = comparison_data.drop('geopoint', axis = 1),\n",
    "                          how = \"left\", \n",
    "                          on = \"comparison_index\", \n",
    "                          suffixes = ['_base', '_comparison'])"
   ]
  },
  {
   "cell_type": "code",
   "execution_count": 18,
   "metadata": {},
   "outputs": [
    {
     "data": {
      "text/html": [
       "<div>\n",
       "<style scoped>\n",
       "    .dataframe tbody tr th:only-of-type {\n",
       "        vertical-align: middle;\n",
       "    }\n",
       "\n",
       "    .dataframe tbody tr th {\n",
       "        vertical-align: top;\n",
       "    }\n",
       "\n",
       "    .dataframe thead th {\n",
       "        text-align: right;\n",
       "    }\n",
       "</style>\n",
       "<table border=\"1\" class=\"dataframe\">\n",
       "  <thead>\n",
       "    <tr style=\"text-align: right;\">\n",
       "      <th></th>\n",
       "      <th>longitude</th>\n",
       "      <th>latitude</th>\n",
       "      <th>base_index</th>\n",
       "      <th>euclidean_distance</th>\n",
       "      <th>comparison_index</th>\n",
       "      <th>ADDRESS_DETAIL_PID</th>\n",
       "      <th>DATE_CREATED_x</th>\n",
       "      <th>DATE_LAST_MODIFIED</th>\n",
       "      <th>DATE_RETIRED_x</th>\n",
       "      <th>BUILDING_NAME</th>\n",
       "      <th>...</th>\n",
       "      <th>DATE_CREATED</th>\n",
       "      <th>DATE_RETIRED</th>\n",
       "      <th>STREET_CLASS_CODE</th>\n",
       "      <th>STREET_NAME</th>\n",
       "      <th>STREET_TYPE_CODE</th>\n",
       "      <th>STREET_SUFFIX_CODE</th>\n",
       "      <th>LOCALITY_PID_y</th>\n",
       "      <th>GNAF_STREET_PID</th>\n",
       "      <th>GNAF_STREET_CONFIDENCE</th>\n",
       "      <th>GNAF_RELIABILITY_CODE</th>\n",
       "    </tr>\n",
       "  </thead>\n",
       "  <tbody>\n",
       "    <tr>\n",
       "      <th>0</th>\n",
       "      <td>149.038706</td>\n",
       "      <td>-32.807752</td>\n",
       "      <td>0</td>\n",
       "      <td>3.395423</td>\n",
       "      <td>3560189</td>\n",
       "      <td>GAVIC424267887</td>\n",
       "      <td>2008-12-24</td>\n",
       "      <td>2017-10-18</td>\n",
       "      <td>NaN</td>\n",
       "      <td>NaN</td>\n",
       "      <td>...</td>\n",
       "      <td>2017-11-01</td>\n",
       "      <td>NaN</td>\n",
       "      <td>C</td>\n",
       "      <td>MURRAY RIVER</td>\n",
       "      <td>ROAD</td>\n",
       "      <td>NaN</td>\n",
       "      <td>VIC2526</td>\n",
       "      <td>252865452.0</td>\n",
       "      <td>2.0</td>\n",
       "      <td>4</td>\n",
       "    </tr>\n",
       "    <tr>\n",
       "      <th>1</th>\n",
       "      <td>148.792731</td>\n",
       "      <td>-37.392214</td>\n",
       "      <td>1</td>\n",
       "      <td>0.067232</td>\n",
       "      <td>3588902</td>\n",
       "      <td>GAVIC425242632</td>\n",
       "      <td>2014-07-17</td>\n",
       "      <td>2014-11-04</td>\n",
       "      <td>NaN</td>\n",
       "      <td>NaN</td>\n",
       "      <td>...</td>\n",
       "      <td>2015-03-23</td>\n",
       "      <td>NaN</td>\n",
       "      <td>C</td>\n",
       "      <td>ADA DIVIDE</td>\n",
       "      <td>TRACK</td>\n",
       "      <td>NaN</td>\n",
       "      <td>VIC1056</td>\n",
       "      <td>255295676.0</td>\n",
       "      <td>0.0</td>\n",
       "      <td>4</td>\n",
       "    </tr>\n",
       "    <tr>\n",
       "      <th>2</th>\n",
       "      <td>146.864124</td>\n",
       "      <td>-39.532611</td>\n",
       "      <td>2</td>\n",
       "      <td>0.735435</td>\n",
       "      <td>3610091</td>\n",
       "      <td>GAVIC424275027</td>\n",
       "      <td>2008-12-29</td>\n",
       "      <td>2018-07-31</td>\n",
       "      <td>NaN</td>\n",
       "      <td>NATIONAL PARK</td>\n",
       "      <td>...</td>\n",
       "      <td>2017-02-02</td>\n",
       "      <td>NaN</td>\n",
       "      <td>C</td>\n",
       "      <td>WILSONS PROMONTORY</td>\n",
       "      <td>ROAD</td>\n",
       "      <td>NaN</td>\n",
       "      <td>VIC2517</td>\n",
       "      <td>252880947.0</td>\n",
       "      <td>0.0</td>\n",
       "      <td>4</td>\n",
       "    </tr>\n",
       "    <tr>\n",
       "      <th>3</th>\n",
       "      <td>142.926599</td>\n",
       "      <td>-32.013216</td>\n",
       "      <td>3</td>\n",
       "      <td>2.271277</td>\n",
       "      <td>1135643</td>\n",
       "      <td>GAVIC424781011</td>\n",
       "      <td>2012-10-16</td>\n",
       "      <td>2014-11-04</td>\n",
       "      <td>NaN</td>\n",
       "      <td>NaN</td>\n",
       "      <td>...</td>\n",
       "      <td>2017-11-01</td>\n",
       "      <td>NaN</td>\n",
       "      <td>C</td>\n",
       "      <td>CURETON</td>\n",
       "      <td>AVENUE</td>\n",
       "      <td>NaN</td>\n",
       "      <td>VIC1676</td>\n",
       "      <td>253030487.0</td>\n",
       "      <td>2.0</td>\n",
       "      <td>4</td>\n",
       "    </tr>\n",
       "    <tr>\n",
       "      <th>4</th>\n",
       "      <td>146.032411</td>\n",
       "      <td>-37.946317</td>\n",
       "      <td>4</td>\n",
       "      <td>0.014011</td>\n",
       "      <td>1891983</td>\n",
       "      <td>GAVIC425023146</td>\n",
       "      <td>2012-07-13</td>\n",
       "      <td>2014-11-04</td>\n",
       "      <td>NaN</td>\n",
       "      <td>NaN</td>\n",
       "      <td>...</td>\n",
       "      <td>2018-05-12</td>\n",
       "      <td>NaN</td>\n",
       "      <td>C</td>\n",
       "      <td>MCKENZIE</td>\n",
       "      <td>ROAD</td>\n",
       "      <td>NaN</td>\n",
       "      <td>VIC1904</td>\n",
       "      <td>253048124.0</td>\n",
       "      <td>2.0</td>\n",
       "      <td>4</td>\n",
       "    </tr>\n",
       "  </tbody>\n",
       "</table>\n",
       "<p>5 rows × 56 columns</p>\n",
       "</div>"
      ],
      "text/plain": [
       "    longitude   latitude  base_index  euclidean_distance  comparison_index  \\\n",
       "0  149.038706 -32.807752           0            3.395423           3560189   \n",
       "1  148.792731 -37.392214           1            0.067232           3588902   \n",
       "2  146.864124 -39.532611           2            0.735435           3610091   \n",
       "3  142.926599 -32.013216           3            2.271277           1135643   \n",
       "4  146.032411 -37.946317           4            0.014011           1891983   \n",
       "\n",
       "  ADDRESS_DETAIL_PID DATE_CREATED_x DATE_LAST_MODIFIED  DATE_RETIRED_x  \\\n",
       "0     GAVIC424267887     2008-12-24         2017-10-18             NaN   \n",
       "1     GAVIC425242632     2014-07-17         2014-11-04             NaN   \n",
       "2     GAVIC424275027     2008-12-29         2018-07-31             NaN   \n",
       "3     GAVIC424781011     2012-10-16         2014-11-04             NaN   \n",
       "4     GAVIC425023146     2012-07-13         2014-11-04             NaN   \n",
       "\n",
       "   BUILDING_NAME          ...            DATE_CREATED  DATE_RETIRED  \\\n",
       "0            NaN          ...              2017-11-01           NaN   \n",
       "1            NaN          ...              2015-03-23           NaN   \n",
       "2  NATIONAL PARK          ...              2017-02-02           NaN   \n",
       "3            NaN          ...              2017-11-01           NaN   \n",
       "4            NaN          ...              2018-05-12           NaN   \n",
       "\n",
       "  STREET_CLASS_CODE         STREET_NAME STREET_TYPE_CODE  STREET_SUFFIX_CODE  \\\n",
       "0                 C        MURRAY RIVER             ROAD                 NaN   \n",
       "1                 C          ADA DIVIDE            TRACK                 NaN   \n",
       "2                 C  WILSONS PROMONTORY             ROAD                 NaN   \n",
       "3                 C             CURETON           AVENUE                 NaN   \n",
       "4                 C            MCKENZIE             ROAD                 NaN   \n",
       "\n",
       "  LOCALITY_PID_y GNAF_STREET_PID GNAF_STREET_CONFIDENCE  GNAF_RELIABILITY_CODE  \n",
       "0        VIC2526     252865452.0                    2.0                      4  \n",
       "1        VIC1056     255295676.0                    0.0                      4  \n",
       "2        VIC2517     252880947.0                    0.0                      4  \n",
       "3        VIC1676     253030487.0                    2.0                      4  \n",
       "4        VIC1904     253048124.0                    2.0                      4  \n",
       "\n",
       "[5 rows x 56 columns]"
      ]
     },
     "execution_count": 18,
     "metadata": {},
     "output_type": "execute_result"
    }
   ],
   "source": [
    "final_data.head()"
   ]
  },
  {
   "cell_type": "markdown",
   "metadata": {},
   "source": [
    "## Export final data to csv"
   ]
  },
  {
   "cell_type": "code",
   "execution_count": 19,
   "metadata": {},
   "outputs": [],
   "source": [
    "final_data.to_csv('/users/danielcorcoran/desktop/closest_points.csv', index = False)"
   ]
  }
 ],
 "metadata": {
  "kernelspec": {
   "display_name": "Python 3",
   "language": "python",
   "name": "python3"
  },
  "language_info": {
   "codemirror_mode": {
    "name": "ipython",
    "version": 3
   },
   "file_extension": ".py",
   "mimetype": "text/x-python",
   "name": "python",
   "nbconvert_exporter": "python",
   "pygments_lexer": "ipython3",
   "version": "3.6.5"
  },
  "toc": {
   "base_numbering": 1,
   "nav_menu": {},
   "number_sections": true,
   "sideBar": true,
   "skip_h1_title": false,
   "title_cell": "Table of Contents",
   "title_sidebar": "Contents",
   "toc_cell": false,
   "toc_position": {
    "height": "calc(100% - 180px)",
    "left": "10px",
    "top": "150px",
    "width": "243px"
   },
   "toc_section_display": true,
   "toc_window_display": true
  },
  "varInspector": {
   "cols": {
    "lenName": 16,
    "lenType": 16,
    "lenVar": 40
   },
   "kernels_config": {
    "python": {
     "delete_cmd_postfix": "",
     "delete_cmd_prefix": "del ",
     "library": "var_list.py",
     "varRefreshCmd": "print(var_dic_list())"
    },
    "r": {
     "delete_cmd_postfix": ") ",
     "delete_cmd_prefix": "rm(",
     "library": "var_list.r",
     "varRefreshCmd": "cat(var_dic_list()) "
    }
   },
   "position": {
    "height": "584px",
    "left": "1056px",
    "right": "12px",
    "top": "120px",
    "width": "358px"
   },
   "types_to_exclude": [
    "module",
    "function",
    "builtin_function_or_method",
    "instance",
    "_Feature"
   ],
   "window_display": false
  }
 },
 "nbformat": 4,
 "nbformat_minor": 2
}
