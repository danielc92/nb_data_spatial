{
 "cells": [
  {
   "cell_type": "code",
   "execution_count": 22,
   "metadata": {},
   "outputs": [],
   "source": [
    "import os\n",
    "import pandas\n",
    "import datetime\n",
    "import numpy"
   ]
  },
  {
   "cell_type": "code",
   "execution_count": 23,
   "metadata": {},
   "outputs": [],
   "source": [
    "base_path = \"/users/danielcorcoran/Desktop/GNAF VIC MAY18/\"\n",
    "output = \"/users/danielcorcoran/Desktop/GNAF VIC MAY18/OUTPUT/\""
   ]
  },
  {
   "cell_type": "code",
   "execution_count": 24,
   "metadata": {},
   "outputs": [],
   "source": [
    "adgs = pandas.read_csv(output + \"VIC_ADDRESS_DEFAULT_GEOCODE_SUBSET.csv\", low_memory = False)"
   ]
  },
  {
   "cell_type": "code",
   "execution_count": 25,
   "metadata": {},
   "outputs": [],
   "source": [
    "ads = pandas.read_csv(output + \"VIC_ADDRESS_DETAIL_SUBSET.csv\", low_memory = False)"
   ]
  },
  {
   "cell_type": "code",
   "execution_count": 26,
   "metadata": {},
   "outputs": [],
   "source": [
    "sls = pandas.read_csv(output + \"VIC_STREET_LOCALITY_SUBSET.csv\", low_memory = False)"
   ]
  },
  {
   "cell_type": "code",
   "execution_count": 27,
   "metadata": {},
   "outputs": [
    {
     "data": {
      "text/html": [
       "<div>\n",
       "<style scoped>\n",
       "    .dataframe tbody tr th:only-of-type {\n",
       "        vertical-align: middle;\n",
       "    }\n",
       "\n",
       "    .dataframe tbody tr th {\n",
       "        vertical-align: top;\n",
       "    }\n",
       "\n",
       "    .dataframe thead th {\n",
       "        text-align: right;\n",
       "    }\n",
       "</style>\n",
       "<table border=\"1\" class=\"dataframe\">\n",
       "  <thead>\n",
       "    <tr style=\"text-align: right;\">\n",
       "      <th></th>\n",
       "      <th>ROW_INDEX</th>\n",
       "      <th>ADDRESS_DEFAULT_GEOCODE_PID</th>\n",
       "      <th>ADDRESS_DETAIL_PID</th>\n",
       "      <th>LONGITUDE</th>\n",
       "      <th>LATITUDE</th>\n",
       "    </tr>\n",
       "  </thead>\n",
       "  <tbody>\n",
       "    <tr>\n",
       "      <th>0</th>\n",
       "      <td>0</td>\n",
       "      <td>1241030</td>\n",
       "      <td>GAVIC420430877</td>\n",
       "      <td>145.081816</td>\n",
       "      <td>-37.794546</td>\n",
       "    </tr>\n",
       "    <tr>\n",
       "      <th>1</th>\n",
       "      <td>1</td>\n",
       "      <td>3010394304</td>\n",
       "      <td>GAVIC719744792</td>\n",
       "      <td>144.888369</td>\n",
       "      <td>-38.381932</td>\n",
       "    </tr>\n",
       "    <tr>\n",
       "      <th>2</th>\n",
       "      <td>2</td>\n",
       "      <td>1241033</td>\n",
       "      <td>GAVIC419811350</td>\n",
       "      <td>145.074252</td>\n",
       "      <td>-37.794981</td>\n",
       "    </tr>\n",
       "    <tr>\n",
       "      <th>3</th>\n",
       "      <td>3</td>\n",
       "      <td>1241035</td>\n",
       "      <td>GAVIC421938585</td>\n",
       "      <td>145.079640</td>\n",
       "      <td>-37.792149</td>\n",
       "    </tr>\n",
       "    <tr>\n",
       "      <th>4</th>\n",
       "      <td>4</td>\n",
       "      <td>1241036</td>\n",
       "      <td>GAVIC421305468</td>\n",
       "      <td>145.087598</td>\n",
       "      <td>-37.793603</td>\n",
       "    </tr>\n",
       "  </tbody>\n",
       "</table>\n",
       "</div>"
      ],
      "text/plain": [
       "   ROW_INDEX  ADDRESS_DEFAULT_GEOCODE_PID ADDRESS_DETAIL_PID   LONGITUDE  \\\n",
       "0          0                      1241030     GAVIC420430877  145.081816   \n",
       "1          1                   3010394304     GAVIC719744792  144.888369   \n",
       "2          2                      1241033     GAVIC419811350  145.074252   \n",
       "3          3                      1241035     GAVIC421938585  145.079640   \n",
       "4          4                      1241036     GAVIC421305468  145.087598   \n",
       "\n",
       "    LATITUDE  \n",
       "0 -37.794546  \n",
       "1 -38.381932  \n",
       "2 -37.794981  \n",
       "3 -37.792149  \n",
       "4 -37.793603  "
      ]
     },
     "execution_count": 27,
     "metadata": {},
     "output_type": "execute_result"
    }
   ],
   "source": [
    "adgs.head()"
   ]
  },
  {
   "cell_type": "code",
   "execution_count": 28,
   "metadata": {},
   "outputs": [
    {
     "data": {
      "text/html": [
       "<div>\n",
       "<style scoped>\n",
       "    .dataframe tbody tr th:only-of-type {\n",
       "        vertical-align: middle;\n",
       "    }\n",
       "\n",
       "    .dataframe tbody tr th {\n",
       "        vertical-align: top;\n",
       "    }\n",
       "\n",
       "    .dataframe thead th {\n",
       "        text-align: right;\n",
       "    }\n",
       "</style>\n",
       "<table border=\"1\" class=\"dataframe\">\n",
       "  <thead>\n",
       "    <tr style=\"text-align: right;\">\n",
       "      <th></th>\n",
       "      <th>ROW_INDEX</th>\n",
       "      <th>ADDRESS_DETAIL_PID</th>\n",
       "      <th>POSTCODE</th>\n",
       "      <th>ADDRESS_SITE_PID</th>\n",
       "      <th>LOCALITY_PID</th>\n",
       "      <th>STREET_LOCALITY_PID</th>\n",
       "      <th>GNAF_PROPERTY_PID</th>\n",
       "    </tr>\n",
       "  </thead>\n",
       "  <tbody>\n",
       "    <tr>\n",
       "      <th>0</th>\n",
       "      <td>0</td>\n",
       "      <td>GAVIC421913470</td>\n",
       "      <td>3910</td>\n",
       "      <td>422057181</td>\n",
       "      <td>VIC1461</td>\n",
       "      <td>VIC2026862</td>\n",
       "      <td>221874894.0</td>\n",
       "    </tr>\n",
       "    <tr>\n",
       "      <th>1</th>\n",
       "      <td>1</td>\n",
       "      <td>GAVIC425744379</td>\n",
       "      <td>3047</td>\n",
       "      <td>425832689</td>\n",
       "      <td>VIC346</td>\n",
       "      <td>VIC2067171</td>\n",
       "      <td>420982251.0</td>\n",
       "    </tr>\n",
       "    <tr>\n",
       "      <th>2</th>\n",
       "      <td>2</td>\n",
       "      <td>GAVIC425745093</td>\n",
       "      <td>3555</td>\n",
       "      <td>425833403</td>\n",
       "      <td>VIC1049</td>\n",
       "      <td>VIC2067610</td>\n",
       "      <td>423926943.0</td>\n",
       "    </tr>\n",
       "    <tr>\n",
       "      <th>3</th>\n",
       "      <td>3</td>\n",
       "      <td>GAVIC425745094</td>\n",
       "      <td>3555</td>\n",
       "      <td>425833404</td>\n",
       "      <td>VIC1049</td>\n",
       "      <td>VIC2067610</td>\n",
       "      <td>423926944.0</td>\n",
       "    </tr>\n",
       "    <tr>\n",
       "      <th>4</th>\n",
       "      <td>4</td>\n",
       "      <td>GAVIC425756883</td>\n",
       "      <td>3150</td>\n",
       "      <td>425845193</td>\n",
       "      <td>VIC1004</td>\n",
       "      <td>VIC2046955</td>\n",
       "      <td>424358119.0</td>\n",
       "    </tr>\n",
       "  </tbody>\n",
       "</table>\n",
       "</div>"
      ],
      "text/plain": [
       "   ROW_INDEX ADDRESS_DETAIL_PID  POSTCODE  ADDRESS_SITE_PID LOCALITY_PID  \\\n",
       "0          0     GAVIC421913470      3910         422057181      VIC1461   \n",
       "1          1     GAVIC425744379      3047         425832689       VIC346   \n",
       "2          2     GAVIC425745093      3555         425833403      VIC1049   \n",
       "3          3     GAVIC425745094      3555         425833404      VIC1049   \n",
       "4          4     GAVIC425756883      3150         425845193      VIC1004   \n",
       "\n",
       "  STREET_LOCALITY_PID  GNAF_PROPERTY_PID  \n",
       "0          VIC2026862        221874894.0  \n",
       "1          VIC2067171        420982251.0  \n",
       "2          VIC2067610        423926943.0  \n",
       "3          VIC2067610        423926944.0  \n",
       "4          VIC2046955        424358119.0  "
      ]
     },
     "execution_count": 28,
     "metadata": {},
     "output_type": "execute_result"
    }
   ],
   "source": [
    "ads.head()"
   ]
  },
  {
   "cell_type": "code",
   "execution_count": 34,
   "metadata": {},
   "outputs": [],
   "source": [
    "adgs_ads = pandas.merge(left = ads, \n",
    "                        right = adgs,\n",
    "                        how = \"left\",\n",
    "                        on = \"ADDRESS_DETAIL_PID\"\n",
    "                        \n",
    "                       )"
   ]
  },
  {
   "cell_type": "code",
   "execution_count": 29,
   "metadata": {},
   "outputs": [
    {
     "data": {
      "text/html": [
       "<div>\n",
       "<style scoped>\n",
       "    .dataframe tbody tr th:only-of-type {\n",
       "        vertical-align: middle;\n",
       "    }\n",
       "\n",
       "    .dataframe tbody tr th {\n",
       "        vertical-align: top;\n",
       "    }\n",
       "\n",
       "    .dataframe thead th {\n",
       "        text-align: right;\n",
       "    }\n",
       "</style>\n",
       "<table border=\"1\" class=\"dataframe\">\n",
       "  <thead>\n",
       "    <tr style=\"text-align: right;\">\n",
       "      <th></th>\n",
       "      <th>ROW_INDEX</th>\n",
       "      <th>STREET_LOCALITY_PID</th>\n",
       "      <th>STREET_NAME</th>\n",
       "      <th>STREET_TYPE_CODE</th>\n",
       "      <th>LOCALITY_PID</th>\n",
       "    </tr>\n",
       "  </thead>\n",
       "  <tbody>\n",
       "    <tr>\n",
       "      <th>0</th>\n",
       "      <td>0</td>\n",
       "      <td>VIC2023135</td>\n",
       "      <td>MCPHERSON</td>\n",
       "      <td>STREET</td>\n",
       "      <td>VIC2408</td>\n",
       "    </tr>\n",
       "    <tr>\n",
       "      <th>1</th>\n",
       "      <td>1</td>\n",
       "      <td>VIC3563169</td>\n",
       "      <td>HOOKER</td>\n",
       "      <td>AVENUE</td>\n",
       "      <td>VIC2334</td>\n",
       "    </tr>\n",
       "    <tr>\n",
       "      <th>2</th>\n",
       "      <td>2</td>\n",
       "      <td>VIC2021624</td>\n",
       "      <td>MCLEOD</td>\n",
       "      <td>STREET</td>\n",
       "      <td>VIC1650</td>\n",
       "    </tr>\n",
       "    <tr>\n",
       "      <th>3</th>\n",
       "      <td>3</td>\n",
       "      <td>VIC3553064</td>\n",
       "      <td>RED HILL</td>\n",
       "      <td>TRACK</td>\n",
       "      <td>VIC1077</td>\n",
       "    </tr>\n",
       "    <tr>\n",
       "      <th>4</th>\n",
       "      <td>4</td>\n",
       "      <td>VIC2012066</td>\n",
       "      <td>PHILLIP ISLAND</td>\n",
       "      <td>TRACK</td>\n",
       "      <td>VIC2945</td>\n",
       "    </tr>\n",
       "  </tbody>\n",
       "</table>\n",
       "</div>"
      ],
      "text/plain": [
       "   ROW_INDEX STREET_LOCALITY_PID     STREET_NAME STREET_TYPE_CODE LOCALITY_PID\n",
       "0          0          VIC2023135       MCPHERSON           STREET      VIC2408\n",
       "1          1          VIC3563169          HOOKER           AVENUE      VIC2334\n",
       "2          2          VIC2021624          MCLEOD           STREET      VIC1650\n",
       "3          3          VIC3553064        RED HILL            TRACK      VIC1077\n",
       "4          4          VIC2012066  PHILLIP ISLAND            TRACK      VIC2945"
      ]
     },
     "execution_count": 29,
     "metadata": {},
     "output_type": "execute_result"
    }
   ],
   "source": [
    "sls.head()"
   ]
  },
  {
   "cell_type": "code",
   "execution_count": 44,
   "metadata": {},
   "outputs": [],
   "source": [
    "adgs_ads_sls = pandas.merge(left = adgs_ads,\n",
    "                           right = sls,\n",
    "                           how = \"left\",\n",
    "                           on = \"STREET_LOCALITY_PID\")"
   ]
  },
  {
   "cell_type": "code",
   "execution_count": 45,
   "metadata": {},
   "outputs": [
    {
     "data": {
      "text/html": [
       "<div>\n",
       "<style scoped>\n",
       "    .dataframe tbody tr th:only-of-type {\n",
       "        vertical-align: middle;\n",
       "    }\n",
       "\n",
       "    .dataframe tbody tr th {\n",
       "        vertical-align: top;\n",
       "    }\n",
       "\n",
       "    .dataframe thead th {\n",
       "        text-align: right;\n",
       "    }\n",
       "</style>\n",
       "<table border=\"1\" class=\"dataframe\">\n",
       "  <thead>\n",
       "    <tr style=\"text-align: right;\">\n",
       "      <th></th>\n",
       "      <th>ROW_INDEX_x</th>\n",
       "      <th>ADDRESS_DETAIL_PID</th>\n",
       "      <th>POSTCODE</th>\n",
       "      <th>ADDRESS_SITE_PID</th>\n",
       "      <th>LOCALITY_PID_x</th>\n",
       "      <th>STREET_LOCALITY_PID</th>\n",
       "      <th>GNAF_PROPERTY_PID</th>\n",
       "      <th>ROW_INDEX_y</th>\n",
       "      <th>ADDRESS_DEFAULT_GEOCODE_PID</th>\n",
       "      <th>LONGITUDE</th>\n",
       "      <th>LATITUDE</th>\n",
       "      <th>ROW_INDEX</th>\n",
       "      <th>STREET_NAME</th>\n",
       "      <th>STREET_TYPE_CODE</th>\n",
       "      <th>LOCALITY_PID_y</th>\n",
       "    </tr>\n",
       "  </thead>\n",
       "  <tbody>\n",
       "    <tr>\n",
       "      <th>0</th>\n",
       "      <td>0</td>\n",
       "      <td>GAVIC421913470</td>\n",
       "      <td>3910</td>\n",
       "      <td>422057181</td>\n",
       "      <td>VIC1461</td>\n",
       "      <td>VIC2026862</td>\n",
       "      <td>221874894.0</td>\n",
       "      <td>298177</td>\n",
       "      <td>1355201</td>\n",
       "      <td>145.201960</td>\n",
       "      <td>-38.153666</td>\n",
       "      <td>392</td>\n",
       "      <td>SOUTHGATEWAY</td>\n",
       "      <td>NaN</td>\n",
       "      <td>VIC1461</td>\n",
       "    </tr>\n",
       "    <tr>\n",
       "      <th>1</th>\n",
       "      <td>1</td>\n",
       "      <td>GAVIC425744379</td>\n",
       "      <td>3047</td>\n",
       "      <td>425832689</td>\n",
       "      <td>VIC346</td>\n",
       "      <td>VIC2067171</td>\n",
       "      <td>420982251.0</td>\n",
       "      <td>3512894</td>\n",
       "      <td>9879848</td>\n",
       "      <td>144.926337</td>\n",
       "      <td>-37.682051</td>\n",
       "      <td>78366</td>\n",
       "      <td>WARANGA</td>\n",
       "      <td>CRESCENT</td>\n",
       "      <td>VIC346</td>\n",
       "    </tr>\n",
       "    <tr>\n",
       "      <th>2</th>\n",
       "      <td>2</td>\n",
       "      <td>GAVIC425745093</td>\n",
       "      <td>3555</td>\n",
       "      <td>425833403</td>\n",
       "      <td>VIC1049</td>\n",
       "      <td>VIC2067610</td>\n",
       "      <td>423926943.0</td>\n",
       "      <td>3521160</td>\n",
       "      <td>9885130</td>\n",
       "      <td>144.265766</td>\n",
       "      <td>-36.782149</td>\n",
       "      <td>70431</td>\n",
       "      <td>WOODWARD</td>\n",
       "      <td>ROAD</td>\n",
       "      <td>VIC1049</td>\n",
       "    </tr>\n",
       "    <tr>\n",
       "      <th>3</th>\n",
       "      <td>3</td>\n",
       "      <td>GAVIC425745094</td>\n",
       "      <td>3555</td>\n",
       "      <td>425833404</td>\n",
       "      <td>VIC1049</td>\n",
       "      <td>VIC2067610</td>\n",
       "      <td>423926944.0</td>\n",
       "      <td>3519171</td>\n",
       "      <td>9881933</td>\n",
       "      <td>144.266020</td>\n",
       "      <td>-36.782179</td>\n",
       "      <td>70431</td>\n",
       "      <td>WOODWARD</td>\n",
       "      <td>ROAD</td>\n",
       "      <td>VIC1049</td>\n",
       "    </tr>\n",
       "    <tr>\n",
       "      <th>4</th>\n",
       "      <td>4</td>\n",
       "      <td>GAVIC425756883</td>\n",
       "      <td>3150</td>\n",
       "      <td>425845193</td>\n",
       "      <td>VIC1004</td>\n",
       "      <td>VIC2046955</td>\n",
       "      <td>424358119.0</td>\n",
       "      <td>2423304</td>\n",
       "      <td>9894125</td>\n",
       "      <td>145.157176</td>\n",
       "      <td>-37.877506</td>\n",
       "      <td>119911</td>\n",
       "      <td>ROSE</td>\n",
       "      <td>AVENUE</td>\n",
       "      <td>VIC1004</td>\n",
       "    </tr>\n",
       "  </tbody>\n",
       "</table>\n",
       "</div>"
      ],
      "text/plain": [
       "   ROW_INDEX_x ADDRESS_DETAIL_PID  POSTCODE  ADDRESS_SITE_PID LOCALITY_PID_x  \\\n",
       "0            0     GAVIC421913470      3910         422057181        VIC1461   \n",
       "1            1     GAVIC425744379      3047         425832689         VIC346   \n",
       "2            2     GAVIC425745093      3555         425833403        VIC1049   \n",
       "3            3     GAVIC425745094      3555         425833404        VIC1049   \n",
       "4            4     GAVIC425756883      3150         425845193        VIC1004   \n",
       "\n",
       "  STREET_LOCALITY_PID  GNAF_PROPERTY_PID  ROW_INDEX_y  \\\n",
       "0          VIC2026862        221874894.0       298177   \n",
       "1          VIC2067171        420982251.0      3512894   \n",
       "2          VIC2067610        423926943.0      3521160   \n",
       "3          VIC2067610        423926944.0      3519171   \n",
       "4          VIC2046955        424358119.0      2423304   \n",
       "\n",
       "   ADDRESS_DEFAULT_GEOCODE_PID   LONGITUDE   LATITUDE  ROW_INDEX  \\\n",
       "0                      1355201  145.201960 -38.153666        392   \n",
       "1                      9879848  144.926337 -37.682051      78366   \n",
       "2                      9885130  144.265766 -36.782149      70431   \n",
       "3                      9881933  144.266020 -36.782179      70431   \n",
       "4                      9894125  145.157176 -37.877506     119911   \n",
       "\n",
       "    STREET_NAME STREET_TYPE_CODE LOCALITY_PID_y  \n",
       "0  SOUTHGATEWAY              NaN        VIC1461  \n",
       "1       WARANGA         CRESCENT         VIC346  \n",
       "2      WOODWARD             ROAD        VIC1049  \n",
       "3      WOODWARD             ROAD        VIC1049  \n",
       "4          ROSE           AVENUE        VIC1004  "
      ]
     },
     "execution_count": 45,
     "metadata": {},
     "output_type": "execute_result"
    }
   ],
   "source": [
    "adgs_ads_sls.head()"
   ]
  },
  {
   "cell_type": "code",
   "execution_count": 47,
   "metadata": {
    "scrolled": true
   },
   "outputs": [],
   "source": [
    "adgs_ads_sls.drop([\"ROW_INDEX_x\", \"LOCALITY_PID_x\",\"LOCALITY_PID_y\", \"ROW_INDEX_y\",\"ROW_INDEX\" ], axis = 1, inplace = True)"
   ]
  },
  {
   "cell_type": "code",
   "execution_count": 48,
   "metadata": {},
   "outputs": [
    {
     "data": {
      "text/plain": [
       "(3714347, 10)"
      ]
     },
     "execution_count": 48,
     "metadata": {},
     "output_type": "execute_result"
    }
   ],
   "source": [
    "adgs_ads_sls.shape"
   ]
  },
  {
   "cell_type": "code",
   "execution_count": 49,
   "metadata": {},
   "outputs": [],
   "source": [
    "adgs_ads_sls.to_csv(\"GNAF_MERGED_SUBSET.csv\", index_label= \"ROW_INDEX\")"
   ]
  },
  {
   "cell_type": "markdown",
   "metadata": {},
   "source": [
    "## Export subset of VIC_ADDRESS_DETAIL.psv"
   ]
  },
  {
   "cell_type": "code",
   "execution_count": 17,
   "metadata": {},
   "outputs": [],
   "source": [
    "ad = pandas.read_csv(base_path + \"VIC_ADDRESS_DETAIL_psv.psv\",\n",
    "                    low_memory = False,\n",
    "                    sep = \"|\")"
   ]
  },
  {
   "cell_type": "code",
   "execution_count": 19,
   "metadata": {},
   "outputs": [
    {
     "data": {
      "text/plain": [
       "['ADDRESS_DETAIL_PID',\n",
       " 'ADDRESS_SITE_PID',\n",
       " 'ALIAS_PRINCIPAL',\n",
       " 'BUILDING_NAME',\n",
       " 'CONFIDENCE',\n",
       " 'DATE_CREATED',\n",
       " 'DATE_LAST_MODIFIED',\n",
       " 'DATE_RETIRED',\n",
       " 'FLAT_NUMBER',\n",
       " 'FLAT_NUMBER_PREFIX',\n",
       " 'FLAT_NUMBER_SUFFIX',\n",
       " 'FLAT_TYPE_CODE',\n",
       " 'GNAF_PROPERTY_PID',\n",
       " 'LEGAL_PARCEL_ID',\n",
       " 'LEVEL_GEOCODED_CODE',\n",
       " 'LEVEL_NUMBER',\n",
       " 'LEVEL_NUMBER_PREFIX',\n",
       " 'LEVEL_NUMBER_SUFFIX',\n",
       " 'LEVEL_TYPE_CODE',\n",
       " 'LOCALITY_PID',\n",
       " 'LOCATION_DESCRIPTION',\n",
       " 'LOT_NUMBER',\n",
       " 'LOT_NUMBER_PREFIX',\n",
       " 'LOT_NUMBER_SUFFIX',\n",
       " 'NUMBER_FIRST',\n",
       " 'NUMBER_FIRST_PREFIX',\n",
       " 'NUMBER_FIRST_SUFFIX',\n",
       " 'NUMBER_LAST',\n",
       " 'NUMBER_LAST_PREFIX',\n",
       " 'NUMBER_LAST_SUFFIX',\n",
       " 'POSTCODE',\n",
       " 'PRIMARY_SECONDARY',\n",
       " 'PRIVATE_STREET',\n",
       " 'PROPERTY_PID',\n",
       " 'STREET_LOCALITY_PID']"
      ]
     },
     "execution_count": 19,
     "metadata": {},
     "output_type": "execute_result"
    }
   ],
   "source": [
    "sorted(list(ad.columns))"
   ]
  },
  {
   "cell_type": "code",
   "execution_count": 20,
   "metadata": {},
   "outputs": [],
   "source": [
    "ad_subset = ad[[\"ADDRESS_DETAIL_PID\",\n",
    "               \"POSTCODE\",\n",
    "               \"ADDRESS_SITE_PID\",\n",
    "                \"LOCALITY_PID\",\n",
    "                \"STREET_LOCALITY_PID\",\n",
    "               \"GNAF_PROPERTY_PID\"]]"
   ]
  },
  {
   "cell_type": "code",
   "execution_count": 21,
   "metadata": {},
   "outputs": [],
   "source": [
    "ad_subset.to_csv(output+ \"VIC_ADDRESS_DETAIL_SUBSET.csv\",index_label= \"ROW_INDEX\")"
   ]
  },
  {
   "cell_type": "code",
   "execution_count": null,
   "metadata": {},
   "outputs": [],
   "source": [
    "ad.info()"
   ]
  },
  {
   "cell_type": "markdown",
   "metadata": {},
   "source": [
    "## Export subset of VIC_ADDRESS_DEFAULT_GEOCODE.psv"
   ]
  },
  {
   "cell_type": "code",
   "execution_count": null,
   "metadata": {},
   "outputs": [],
   "source": [
    "adg = pandas.read_csv(base_path + \"VIC_ADDRESS_DEFAULT_GEOCODE_psv.psv\",\n",
    "                    low_memory = False,\n",
    "                    sep = \"|\")"
   ]
  },
  {
   "cell_type": "code",
   "execution_count": null,
   "metadata": {},
   "outputs": [],
   "source": [
    "adg.shape"
   ]
  },
  {
   "cell_type": "code",
   "execution_count": null,
   "metadata": {},
   "outputs": [],
   "source": [
    "adg.columns"
   ]
  },
  {
   "cell_type": "code",
   "execution_count": null,
   "metadata": {},
   "outputs": [],
   "source": [
    "adg.head(2)"
   ]
  },
  {
   "cell_type": "code",
   "execution_count": null,
   "metadata": {},
   "outputs": [],
   "source": [
    "adg_subset = adg[[\"ADDRESS_DEFAULT_GEOCODE_PID\",\n",
    "                  \"ADDRESS_DETAIL_PID\",\n",
    "                  \"LONGITUDE\",\n",
    "                  \"LATITUDE\"]]"
   ]
  },
  {
   "cell_type": "code",
   "execution_count": null,
   "metadata": {},
   "outputs": [],
   "source": [
    "adg_subset.to_csv(base_path + \"VIC_ADDRESS_DEFAULT_GEOCODE_SUBSET.csv\",\n",
    "                  index_label=\"ROW_INDEX\")"
   ]
  },
  {
   "cell_type": "markdown",
   "metadata": {},
   "source": [
    "## Export subset of VIC_STREET_LOCALITY.psv"
   ]
  },
  {
   "cell_type": "code",
   "execution_count": null,
   "metadata": {},
   "outputs": [],
   "source": [
    "sl = pandas.read_csv(base_path + \"VIC_STREET_LOCALITY_psv.psv\",\n",
    "                    low_memory = False,\n",
    "                    sep = \"|\")"
   ]
  },
  {
   "cell_type": "code",
   "execution_count": null,
   "metadata": {},
   "outputs": [],
   "source": [
    "sl.tail(922)"
   ]
  },
  {
   "cell_type": "code",
   "execution_count": null,
   "metadata": {},
   "outputs": [],
   "source": [
    "sl[\"STREET_SUFFIX_CODE\"].unique()"
   ]
  },
  {
   "cell_type": "code",
   "execution_count": null,
   "metadata": {},
   "outputs": [],
   "source": [
    "sl_subset = sl[[\"STREET_LOCALITY_PID\", \"STREET_NAME\", \"STREET_TYPE_CODE\",\"LOCALITY_PID\"]]"
   ]
  },
  {
   "cell_type": "code",
   "execution_count": null,
   "metadata": {},
   "outputs": [],
   "source": [
    "sl_subset.to_csv(output + \"VIC_STREET_LOCALITY_SUBSET.csv\",\n",
    "                 index_label = \"ROW_INDEX\")"
   ]
  },
  {
   "cell_type": "code",
   "execution_count": null,
   "metadata": {},
   "outputs": [],
   "source": [
    "sl.head()"
   ]
  },
  {
   "cell_type": "code",
   "execution_count": null,
   "metadata": {},
   "outputs": [],
   "source": [
    "ad_adg = pandas.merge(left = ad,\n",
    "                     right = adg,\n",
    "                     how = \"left\",\n",
    "                     on = \"ADDRESS_DETAIL_PID\")"
   ]
  },
  {
   "cell_type": "code",
   "execution_count": null,
   "metadata": {},
   "outputs": [],
   "source": [
    "ad_adg_sl = pandas.merge(left = ad_adg,\n",
    "                     right = sl,\n",
    "                     how = \"left\",\n",
    "                     on = \"LOCALITY_PID\")"
   ]
  }
 ],
 "metadata": {
  "kernelspec": {
   "display_name": "Python 3",
   "language": "python",
   "name": "python3"
  },
  "language_info": {
   "codemirror_mode": {
    "name": "ipython",
    "version": 3
   },
   "file_extension": ".py",
   "mimetype": "text/x-python",
   "name": "python",
   "nbconvert_exporter": "python",
   "pygments_lexer": "ipython3",
   "version": "3.6.5"
  },
  "toc": {
   "base_numbering": 1,
   "nav_menu": {},
   "number_sections": true,
   "sideBar": true,
   "skip_h1_title": false,
   "title_cell": "Table of Contents",
   "title_sidebar": "Contents",
   "toc_cell": false,
   "toc_position": {},
   "toc_section_display": true,
   "toc_window_display": false
  },
  "varInspector": {
   "cols": {
    "lenName": 16,
    "lenType": 16,
    "lenVar": 40
   },
   "kernels_config": {
    "python": {
     "delete_cmd_postfix": "",
     "delete_cmd_prefix": "del ",
     "library": "var_list.py",
     "varRefreshCmd": "print(var_dic_list())"
    },
    "r": {
     "delete_cmd_postfix": ") ",
     "delete_cmd_prefix": "rm(",
     "library": "var_list.r",
     "varRefreshCmd": "cat(var_dic_list()) "
    }
   },
   "position": {
    "height": "494px",
    "left": "1360px",
    "right": "-315px",
    "top": "680px",
    "width": "350px"
   },
   "types_to_exclude": [
    "module",
    "function",
    "builtin_function_or_method",
    "instance",
    "_Feature"
   ],
   "window_display": true
  }
 },
 "nbformat": 4,
 "nbformat_minor": 2
}
