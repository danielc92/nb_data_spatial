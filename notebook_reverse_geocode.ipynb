{
 "cells": [
  {
   "cell_type": "markdown",
   "metadata": {},
   "source": [
    "# Reverse Geocoder"
   ]
  },
  {
   "cell_type": "markdown",
   "metadata": {},
   "source": [
    "## Import modules and driver"
   ]
  },
  {
   "cell_type": "code",
   "execution_count": 1,
   "metadata": {},
   "outputs": [],
   "source": [
    "from selenium import webdriver\n",
    "import time"
   ]
  },
  {
   "cell_type": "code",
   "execution_count": 2,
   "metadata": {},
   "outputs": [],
   "source": [
    "browser = webdriver.Firefox(executable_path=\"/Users/danielcorcoran/Desktop/github_repos/python_nb_data_spatial/drivers/geckodriver\")\n",
    "\n",
    "time.sleep(5)"
   ]
  },
  {
   "cell_type": "markdown",
   "metadata": {},
   "source": [
    "## Set Test Points"
   ]
  },
  {
   "cell_type": "code",
   "execution_count": 3,
   "metadata": {},
   "outputs": [],
   "source": [
    "test_points = [(-37.98862,145.21805),\n",
    "(-37.99092,145.27632),\n",
    "(-38.39632,144.85489),\n",
    "(-37.98918,145.14496),\n",
    "(-38.37299,144.87159),\n",
    "(-38.23056,145.0927),\n",
    "(-38.14939,145.904),\n",
    "(-38.15393,145.16144),\n",
    "(-38.00228,145.21775),\n",
    "(-38.10346,145.12688)]\n",
    "\n",
    "\n",
    "address_list = []"
   ]
  },
  {
   "cell_type": "markdown",
   "metadata": {},
   "source": [
    "## Target site "
   ]
  },
  {
   "cell_type": "code",
   "execution_count": 4,
   "metadata": {},
   "outputs": [],
   "source": [
    "browser.get(\"https://gps-coordinates.org/\")"
   ]
  },
  {
   "cell_type": "markdown",
   "metadata": {},
   "source": [
    "## Locate button"
   ]
  },
  {
   "cell_type": "code",
   "execution_count": 5,
   "metadata": {},
   "outputs": [],
   "source": [
    "buttons = browser.find_elements_by_tag_name(\"button\")\n",
    "target_button = buttons[1]"
   ]
  },
  {
   "cell_type": "markdown",
   "metadata": {},
   "source": [
    "## Locate coord boxes"
   ]
  },
  {
   "cell_type": "code",
   "execution_count": 6,
   "metadata": {},
   "outputs": [],
   "source": [
    "latitude_box = browser.find_element_by_id(\"latitude\")\n",
    "longitude_box = browser.find_element_by_id(\"longitude\")\n",
    "address_box = browser.find_element_by_id(\"address\")"
   ]
  },
  {
   "cell_type": "markdown",
   "metadata": {},
   "source": [
    "## Import Keys"
   ]
  },
  {
   "cell_type": "code",
   "execution_count": 7,
   "metadata": {},
   "outputs": [],
   "source": [
    "from selenium.webdriver.common.keys import Keys"
   ]
  },
  {
   "cell_type": "markdown",
   "metadata": {},
   "source": [
    "## Test Send"
   ]
  },
  {
   "cell_type": "code",
   "execution_count": 8,
   "metadata": {},
   "outputs": [
    {
     "name": "stdout",
     "output_type": "stream",
     "text": [
      "Finished processing 10 in 0:00:18.164483\n"
     ]
    }
   ],
   "source": [
    "import datetime\n",
    "\n",
    "start = datetime.datetime.now()\n",
    "\n",
    "for point in test_points:\n",
    "    \n",
    "    latitude = str(point[0])\n",
    "    longitude = str(point[1])\n",
    "\n",
    "    latitude_box.send_keys(latitude)\n",
    "    longitude_box.send_keys(longitude)\n",
    "    \n",
    "    time.sleep(0.5)\n",
    "    \n",
    "    target_button.click()\n",
    "    \n",
    "    time.sleep(1)\n",
    "    \n",
    "    address = address_box.get_attribute(\"value\")\n",
    "    address_list.append(address)\n",
    "    \n",
    "    address_box.clear()\n",
    "    latitude_box.clear()\n",
    "    longitude_box.clear()\n",
    "    \n",
    "print(\"Finished processing\",len(test_points),\"in\",datetime.datetime.now()-start)"
   ]
  },
  {
   "cell_type": "code",
   "execution_count": 9,
   "metadata": {},
   "outputs": [
    {
     "data": {
      "text/plain": [
       "['166 State Route 9, Dandenong VIC 3175, Australia',\n",
       " '260 Wright St, Sunshine West VIC 3020, Australia',\n",
       " '257 Browns Rd, Fingal VIC 3939, Australia',\n",
       " '779 Springvale Rd, Keysborough VIC 3173, Australia',\n",
       " '68 Elizabeth Ave, Capel Sound VIC 3940, Australia',\n",
       " '280 Bungower Rd, Mornington VIC 3931, Australia',\n",
       " 'Princes Way, Warragul VIC 3820, Australia',\n",
       " '290 Tourist Drive 12, Frankston VIC 3199, Australia',\n",
       " '85 Amberley Cres, Dandenong South VIC 3175, Australia',\n",
       " '14 Station St, Seaford VIC 3198, Australia']"
      ]
     },
     "execution_count": 9,
     "metadata": {},
     "output_type": "execute_result"
    }
   ],
   "source": [
    "address_list"
   ]
  },
  {
   "cell_type": "code",
   "execution_count": null,
   "metadata": {},
   "outputs": [],
   "source": []
  }
 ],
 "metadata": {
  "kernelspec": {
   "display_name": "Python 3",
   "language": "python",
   "name": "python3"
  },
  "language_info": {
   "codemirror_mode": {
    "name": "ipython",
    "version": 3
   },
   "file_extension": ".py",
   "mimetype": "text/x-python",
   "name": "python",
   "nbconvert_exporter": "python",
   "pygments_lexer": "ipython3",
   "version": "3.6.5"
  },
  "toc": {
   "base_numbering": 1,
   "nav_menu": {},
   "number_sections": true,
   "sideBar": true,
   "skip_h1_title": false,
   "title_cell": "Table of Contents",
   "title_sidebar": "Contents",
   "toc_cell": false,
   "toc_position": {},
   "toc_section_display": true,
   "toc_window_display": false
  },
  "varInspector": {
   "cols": {
    "lenName": 16,
    "lenType": 16,
    "lenVar": 40
   },
   "kernels_config": {
    "python": {
     "delete_cmd_postfix": "",
     "delete_cmd_prefix": "del ",
     "library": "var_list.py",
     "varRefreshCmd": "print(var_dic_list())"
    },
    "r": {
     "delete_cmd_postfix": ") ",
     "delete_cmd_prefix": "rm(",
     "library": "var_list.r",
     "varRefreshCmd": "cat(var_dic_list()) "
    }
   },
   "types_to_exclude": [
    "module",
    "function",
    "builtin_function_or_method",
    "instance",
    "_Feature"
   ],
   "window_display": false
  }
 },
 "nbformat": 4,
 "nbformat_minor": 2
}
