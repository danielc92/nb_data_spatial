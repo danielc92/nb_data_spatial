{
 "cells": [
  {
   "cell_type": "markdown",
   "metadata": {},
   "source": [
    "# Append LGA Codes\n",
    "\n",
    "- Processes `pandas dataframe` containing local government area names, attempts to clean the names and produce new code/names based on Australian Bureau of Statistics naming conventions.\n",
    "- Data can be import/exported as excel/csv/sql etc"
   ]
  },
  {
   "cell_type": "markdown",
   "metadata": {},
   "source": [
    "### Import modules"
   ]
  },
  {
   "cell_type": "code",
   "execution_count": 1,
   "metadata": {},
   "outputs": [
    {
     "name": "stderr",
     "output_type": "stream",
     "text": [
      "/Library/Frameworks/Python.framework/Versions/3.6/lib/python3.6/importlib/_bootstrap.py:219: RuntimeWarning: numpy.dtype size changed, may indicate binary incompatibility. Expected 96, got 88\n",
      "  return f(*args, **kwds)\n",
      "/Library/Frameworks/Python.framework/Versions/3.6/lib/python3.6/importlib/_bootstrap.py:219: RuntimeWarning: numpy.dtype size changed, may indicate binary incompatibility. Expected 96, got 88\n",
      "  return f(*args, **kwds)\n"
     ]
    }
   ],
   "source": [
    "import datetime\n",
    "import pandas\n",
    "import numpy\n",
    "from multiprocessing import Pool, cpu_count"
   ]
  },
  {
   "cell_type": "markdown",
   "metadata": {},
   "source": [
    "### Import data"
   ]
  },
  {
   "cell_type": "code",
   "execution_count": 2,
   "metadata": {},
   "outputs": [
    {
     "data": {
      "text/html": [
       "<div>\n",
       "<style scoped>\n",
       "    .dataframe tbody tr th:only-of-type {\n",
       "        vertical-align: middle;\n",
       "    }\n",
       "\n",
       "    .dataframe tbody tr th {\n",
       "        vertical-align: top;\n",
       "    }\n",
       "\n",
       "    .dataframe thead th {\n",
       "        text-align: right;\n",
       "    }\n",
       "</style>\n",
       "<table border=\"1\" class=\"dataframe\">\n",
       "  <thead>\n",
       "    <tr style=\"text-align: right;\">\n",
       "      <th></th>\n",
       "      <th>Local Government Area</th>\n",
       "      <th>Suburb</th>\n",
       "      <th>Some Metric 1</th>\n",
       "      <th>Some Metric 2</th>\n",
       "      <th>Some Metric 3</th>\n",
       "    </tr>\n",
       "  </thead>\n",
       "  <tbody>\n",
       "    <tr>\n",
       "      <th>0</th>\n",
       "      <td>Ballarat (C)</td>\n",
       "      <td>Ballarat</td>\n",
       "      <td>119</td>\n",
       "      <td>93</td>\n",
       "      <td>30</td>\n",
       "    </tr>\n",
       "    <tr>\n",
       "      <th>1</th>\n",
       "      <td>statewide</td>\n",
       "      <td>statewide</td>\n",
       "      <td>11</td>\n",
       "      <td>60</td>\n",
       "      <td>81</td>\n",
       "    </tr>\n",
       "    <tr>\n",
       "      <th>2</th>\n",
       "      <td>statewide</td>\n",
       "      <td>statewide</td>\n",
       "      <td>67</td>\n",
       "      <td>110</td>\n",
       "      <td>51</td>\n",
       "    </tr>\n",
       "    <tr>\n",
       "      <th>3</th>\n",
       "      <td>Melbourne (C)</td>\n",
       "      <td>Parkville</td>\n",
       "      <td>37</td>\n",
       "      <td>2</td>\n",
       "      <td>51</td>\n",
       "    </tr>\n",
       "    <tr>\n",
       "      <th>4</th>\n",
       "      <td>statewide</td>\n",
       "      <td>statewide</td>\n",
       "      <td>66</td>\n",
       "      <td>70</td>\n",
       "      <td>42</td>\n",
       "    </tr>\n",
       "  </tbody>\n",
       "</table>\n",
       "</div>"
      ],
      "text/plain": [
       "  Local Government Area     Suburb  Some Metric 1  Some Metric 2  \\\n",
       "0          Ballarat (C)  Ballarat             119             93   \n",
       "1             statewide  statewide             11             60   \n",
       "2             statewide  statewide             67            110   \n",
       "3         Melbourne (C)  Parkville             37              2   \n",
       "4             statewide  statewide             66             70   \n",
       "\n",
       "   Some Metric 3  \n",
       "0             30  \n",
       "1             81  \n",
       "2             51  \n",
       "3             51  \n",
       "4             42  "
      ]
     },
     "execution_count": 2,
     "metadata": {},
     "output_type": "execute_result"
    }
   ],
   "source": [
    "import_path = '/users/danielcorcoran/desktop/DirtyLgas.xlsx'\n",
    "export_path = '/users/danielcorcoran/desktop/'\n",
    "\n",
    "data = pandas.read_excel(import_path, sheet_name = 'Sheet1')\n",
    "data.head()"
   ]
  },
  {
   "cell_type": "markdown",
   "metadata": {},
   "source": [
    "### Set Lga Column Name\n",
    "- This variable may change depending on your dataset"
   ]
  },
  {
   "cell_type": "code",
   "execution_count": 3,
   "metadata": {},
   "outputs": [],
   "source": [
    "lga_column_name = 'Local Government Area'"
   ]
  },
  {
   "cell_type": "markdown",
   "metadata": {},
   "source": [
    "### Function to clean dirty lga string \n",
    "**Operations**\n",
    "- Uppercase.\n",
    "- Strip.\n",
    "- Replace anything which is not A-Z with spaces.\n",
    "- Replace all double spaces with single spaces."
   ]
  },
  {
   "cell_type": "code",
   "execution_count": 4,
   "metadata": {},
   "outputs": [],
   "source": [
    "lga_dict = {20110: ('ALPINE','Alpine (S)')\n",
    "    ,20260: ('ARARAT', 'Ararat (RC)')\n",
    "    ,20570: ('BALLARAT', 'Ballarat (C)')}"
   ]
  },
  {
   "cell_type": "code",
   "execution_count": 5,
   "metadata": {},
   "outputs": [],
   "source": [
    "def clean_data(dirty_lga):\n",
    "    \n",
    "    lga_dict = {20110: ('ALPINE','Alpine (S)')\n",
    "    ,20260: ('ARARAT', 'Ararat (RC)')\n",
    "    ,20570: ('BALLARAT', 'Ballarat (C)')\n",
    "    ,20660: ('BANYULE', 'Banyule (C)')\n",
    "    ,20740: ('BASS COAST','Bass Coast (S)')\n",
    "    ,20830: ('BAW BAW', 'Baw Baw (S)')\n",
    "    ,20910: ('BAYSIDE', 'Bayside (C)')\n",
    "    ,21010: ('BENALLA', 'Benalla (RC)')\n",
    "    ,21110: ('BOROONDARA', 'Boroondara (C)')\n",
    "    ,21180: ('BRIMBANK', 'Brimbank (C)')\n",
    "    ,21270: ('BULOKE', 'Buloke (S)')\n",
    "    ,21370: ('CAMPASPE', 'Campaspe (S)')\n",
    "    ,21450: ('CARDINIA', 'Cardinia (S)')\n",
    "    ,21610: ('CASEY', 'Casey (C)')\n",
    "    ,21670: ('CENTRAL GOLDFIELDS', 'Central Goldfields (S)')\n",
    "    ,21750: ('COLAC OTWAY', 'Colac-Otway (S)')\n",
    "    ,21830: ('CORANGAMITE', 'Corangamite (S)')\n",
    "    ,21890: ('DAREBIN', 'Darebin (C)')\n",
    "    ,22110: ('EAST GIPPSLAND', 'East Gippsland (S)')\n",
    "    ,22170: ('FRANKSTON', 'Frankston (C)')\n",
    "    ,22250: ('GANNAWARRA', 'Gannawarra (S)')\n",
    "    ,22310: ('GLEN EIRA', 'Glen Eira (C)')\n",
    "    ,22410: ('GLENELG', 'Glenelg (S)')\n",
    "    ,22490: ('GOLDEN PLAINS', 'Golden Plains (S)')\n",
    "    ,22620: ('GREATER BENDIGO', 'Greater Bendigo (C)')\n",
    "    ,22670: ('GREATER DANDENONG', 'Greater Dandenong (C)')\n",
    "    ,22750: ('GREATER GEELONG', 'Greater Geelong (C)')\n",
    "    ,22830: ('GREATER SHEPPARTON', 'Greater Shepparton (C)')\n",
    "    ,22910: ('HEPBURN', 'Hepburn (S)')\n",
    "    ,22980: ('HINDMARSH', 'Hindmarsh (S)')\n",
    "    ,23110: ('HOBSONS BAY', 'Hobsons Bay (C)')\n",
    "    ,23190: ('HORSHAM', 'Horsham (RC)')\n",
    "    ,23270: ('HUME', 'Hume (C)')\n",
    "    ,23350: ('INDIGO', 'Indigo (S)')\n",
    "    ,23430: ('KINGSTON', 'Kingston (C)(Vic.)')\n",
    "    ,23670: ('KNOX', 'Knox (C)')\n",
    "    ,23810: ('LATROBE', 'Latrobe (C)(Vic.)')\n",
    "    ,23940: ('LODDON', 'Loddon (S)')\n",
    "    ,24130: ('MACEDON RANGES', 'Macedon Ranges (S)')\n",
    "    ,24210: ('MANNINGHAM', 'Manningham (C')\n",
    "    ,24250: ('MANSFIELD', 'Mansfield (S)')\n",
    "    ,24330: ('MARIBYRNONG', 'Maribyrnong (C)')\n",
    "    ,24410: ('MAROONDAH', 'Maroondah (C)')\n",
    "    ,24600: ('MELBOURNE', 'Melbourne (C)')\n",
    "    ,24650: ('MELTON', 'Melton (C)')\n",
    "    ,24780: ('MILDURA', 'Mildura (RC)')\n",
    "    ,24850: ('MITCHELL', 'Mitchell (S)')\n",
    "    ,24900: ('MOIRA', 'Moira (S)')\n",
    "    ,24970: ('MONASH', 'Monash (C)')\n",
    "    ,25060: ('MOONEE VALLEY', 'Moonee Valley (C)')\n",
    "    ,25150: ('MOORABOOL', 'Moorabool (S)')\n",
    "    ,25250: ('MORELAND', 'Moreland (C)')\n",
    "    ,25340: ('MORNINGTON PENINSULA', 'Mornington Peninsula (S)')\n",
    "    ,25430: ('MOUNT ALEXANDER', 'Mount Alexander (S)')\n",
    "    ,25490: ('MOYNE', 'Moyne (S)')\n",
    "    ,25620: ('MURRINDINDI', 'Murrindindi (S)')\n",
    "    ,25710: ('NILLUMBIK', 'Nillumbik (S)')\n",
    "    ,25810: ('NORTHERN GRAMPIANS', 'Northern Grampians (S)')\n",
    "    ,25900: ('PORT PHILLIP', 'Port Phillip (C)')\n",
    "    ,25990: ('PYRENEES', 'Pyrenees (S)')\n",
    "    ,26080: ('QUEENSCLIFFE', 'Queenscliffe (B)')\n",
    "    ,26170: ('SOUTH GIPPSLAND', 'South Gippsland (S)')\n",
    "    ,26260: ('SOUTHERN GRAMPIANS', 'Southern Grampians (S)')\n",
    "    ,26350: ('STONNINGTON', 'Stonnington (C)')\n",
    "    ,26430: ('STRATHBOGIE', 'Strathbogie (S)')\n",
    "    ,26490: ('SURF COAST', 'Surf Coast (S)')\n",
    "    ,26610: ('SWAN HILL', 'Swan Hill (RC)')\n",
    "    ,26670: ('TOWONG', 'Towong (S)')\n",
    "    ,29399: ('UNINCORPORATED VIC', 'Unincorporated Vic')\n",
    "    ,26700: ('WANGARATTA', 'Wangaratta (RC)')\n",
    "    ,26730: ('WARRNAMBOOL', 'Warrnambool (C)')\n",
    "    ,26810: ('WELLINGTON', 'Wellington (S)')\n",
    "    ,26890: ('WEST WIMMERA', 'West Wimmera (S)')\n",
    "    ,26980: ('WHITEHORSE', 'Whitehorse (C)')\n",
    "    ,27070: ('WHITTLESEA', 'Whittlesea (C)')\n",
    "    ,27170: ('WODONGA', 'Wodonga (C)')\n",
    "    ,27260: ('WYNDHAM', 'Wyndham (C)')\n",
    "    ,27450: ('YARRA RANGES', 'Yarra Ranges (S)')\n",
    "    ,27350: ('YARRA', 'Yarra (C)')\n",
    "    ,27630: ('YARRIAMBIACK', 'Yarriambiack (S)')\n",
    "    ,29499: ('NO USUAL ADDRESS', 'No usual address (Vic.)')\n",
    "    ,29799: ('MIGRATORY OFFSHORE SHIPPING', 'Migratory - Offshore - Shipping (Vic.)')}\n",
    "        \n",
    "    dirty_lga_upper = str(dirty_lga).upper()\n",
    "    string = dirty_lga_upper\n",
    "    \n",
    "    acceptable_chars = \"ABCDEFGHIJKLMNOPQRSTUVWXYZ\"\n",
    "    \n",
    "    for index, char in enumerate(string):\n",
    "        if char not in acceptable_chars:\n",
    "            string = string.replace(char, \" \")\n",
    "\n",
    "    dirty_lga_upper = string\n",
    "\n",
    "    while \"  \" in dirty_lga_upper:\n",
    "        dirty_lga_upper = dirty_lga_upper.replace(\"  \", \" \")\n",
    "\n",
    "    cleaned_lga_upper = dirty_lga_upper.strip()\n",
    "\n",
    "    for key in lga_dict.keys():\n",
    "        reference_code = key\n",
    "        reference_name = lga_dict[key][0]\n",
    "        lga_abs_name = lga_dict[key][1]\n",
    "\n",
    "        if reference_name in cleaned_lga_upper:\n",
    "\n",
    "            return (reference_code, lga_abs_name)"
   ]
  },
  {
   "cell_type": "markdown",
   "metadata": {},
   "source": [
    "### Process and time"
   ]
  },
  {
   "cell_type": "code",
   "execution_count": 7,
   "metadata": {},
   "outputs": [
    {
     "name": "stdout",
     "output_type": "stream",
     "text": [
      "CPU times: user 21.7 s, sys: 354 ms, total: 22.1 s\n",
      "Wall time: 22 s\n"
     ]
    }
   ],
   "source": [
    "%%time\n",
    "results = data[lga_column_name].apply(clean_data).apply(pandas.Series)\n",
    "results.columns = ['LGA_CODE16_SCRIPT', 'LGA_NAME16_SCRIPT']\n",
    "final_data = pandas.concat([data, results], axis = 1)"
   ]
  },
  {
   "cell_type": "code",
   "execution_count": 8,
   "metadata": {},
   "outputs": [
    {
     "data": {
      "text/html": [
       "<div>\n",
       "<style scoped>\n",
       "    .dataframe tbody tr th:only-of-type {\n",
       "        vertical-align: middle;\n",
       "    }\n",
       "\n",
       "    .dataframe tbody tr th {\n",
       "        vertical-align: top;\n",
       "    }\n",
       "\n",
       "    .dataframe thead th {\n",
       "        text-align: right;\n",
       "    }\n",
       "</style>\n",
       "<table border=\"1\" class=\"dataframe\">\n",
       "  <thead>\n",
       "    <tr style=\"text-align: right;\">\n",
       "      <th></th>\n",
       "      <th>Local Government Area</th>\n",
       "      <th>Suburb</th>\n",
       "      <th>Some Metric 1</th>\n",
       "      <th>Some Metric 2</th>\n",
       "      <th>Some Metric 3</th>\n",
       "      <th>LGA_CODE16_SCRIPT</th>\n",
       "      <th>LGA_NAME16_SCRIPT</th>\n",
       "    </tr>\n",
       "  </thead>\n",
       "  <tbody>\n",
       "    <tr>\n",
       "      <th>0</th>\n",
       "      <td>Ballarat (C)</td>\n",
       "      <td>Ballarat</td>\n",
       "      <td>119</td>\n",
       "      <td>93</td>\n",
       "      <td>30</td>\n",
       "      <td>20570.0</td>\n",
       "      <td>Ballarat (C)</td>\n",
       "    </tr>\n",
       "    <tr>\n",
       "      <th>1</th>\n",
       "      <td>statewide</td>\n",
       "      <td>statewide</td>\n",
       "      <td>11</td>\n",
       "      <td>60</td>\n",
       "      <td>81</td>\n",
       "      <td>NaN</td>\n",
       "      <td>NaN</td>\n",
       "    </tr>\n",
       "    <tr>\n",
       "      <th>2</th>\n",
       "      <td>statewide</td>\n",
       "      <td>statewide</td>\n",
       "      <td>67</td>\n",
       "      <td>110</td>\n",
       "      <td>51</td>\n",
       "      <td>NaN</td>\n",
       "      <td>NaN</td>\n",
       "    </tr>\n",
       "    <tr>\n",
       "      <th>3</th>\n",
       "      <td>Melbourne (C)</td>\n",
       "      <td>Parkville</td>\n",
       "      <td>37</td>\n",
       "      <td>2</td>\n",
       "      <td>51</td>\n",
       "      <td>24600.0</td>\n",
       "      <td>Melbourne (C)</td>\n",
       "    </tr>\n",
       "    <tr>\n",
       "      <th>4</th>\n",
       "      <td>statewide</td>\n",
       "      <td>statewide</td>\n",
       "      <td>66</td>\n",
       "      <td>70</td>\n",
       "      <td>42</td>\n",
       "      <td>NaN</td>\n",
       "      <td>NaN</td>\n",
       "    </tr>\n",
       "  </tbody>\n",
       "</table>\n",
       "</div>"
      ],
      "text/plain": [
       "  Local Government Area     Suburb  Some Metric 1  Some Metric 2  \\\n",
       "0          Ballarat (C)  Ballarat             119             93   \n",
       "1             statewide  statewide             11             60   \n",
       "2             statewide  statewide             67            110   \n",
       "3         Melbourne (C)  Parkville             37              2   \n",
       "4             statewide  statewide             66             70   \n",
       "\n",
       "   Some Metric 3  LGA_CODE16_SCRIPT LGA_NAME16_SCRIPT  \n",
       "0             30            20570.0      Ballarat (C)  \n",
       "1             81                NaN               NaN  \n",
       "2             51                NaN               NaN  \n",
       "3             51            24600.0     Melbourne (C)  \n",
       "4             42                NaN               NaN  "
      ]
     },
     "execution_count": 8,
     "metadata": {},
     "output_type": "execute_result"
    }
   ],
   "source": [
    "final_data.head()"
   ]
  },
  {
   "cell_type": "markdown",
   "metadata": {},
   "source": [
    "### Export Results"
   ]
  },
  {
   "cell_type": "code",
   "execution_count": 9,
   "metadata": {},
   "outputs": [],
   "source": [
    "final_data.to_csv(export_path + 'CleanedLgas.csv', index = False)"
   ]
  }
 ],
 "metadata": {
  "kernelspec": {
   "display_name": "Python 3",
   "language": "python",
   "name": "python3"
  },
  "language_info": {
   "codemirror_mode": {
    "name": "ipython",
    "version": 3
   },
   "file_extension": ".py",
   "mimetype": "text/x-python",
   "name": "python",
   "nbconvert_exporter": "python",
   "pygments_lexer": "ipython3",
   "version": "3.6.5"
  },
  "toc": {
   "base_numbering": 1,
   "nav_menu": {},
   "number_sections": true,
   "sideBar": true,
   "skip_h1_title": false,
   "title_cell": "Table of Contents",
   "title_sidebar": "Contents",
   "toc_cell": false,
   "toc_position": {
    "height": "calc(100% - 180px)",
    "left": "10px",
    "top": "150px",
    "width": "229px"
   },
   "toc_section_display": true,
   "toc_window_display": true
  },
  "varInspector": {
   "cols": {
    "lenName": 16,
    "lenType": 16,
    "lenVar": 40
   },
   "kernels_config": {
    "python": {
     "delete_cmd_postfix": "",
     "delete_cmd_prefix": "del ",
     "library": "var_list.py",
     "varRefreshCmd": "print(var_dic_list())"
    },
    "r": {
     "delete_cmd_postfix": ") ",
     "delete_cmd_prefix": "rm(",
     "library": "var_list.r",
     "varRefreshCmd": "cat(var_dic_list()) "
    }
   },
   "types_to_exclude": [
    "module",
    "function",
    "builtin_function_or_method",
    "instance",
    "_Feature"
   ],
   "window_display": false
  }
 },
 "nbformat": 4,
 "nbformat_minor": 2
}
