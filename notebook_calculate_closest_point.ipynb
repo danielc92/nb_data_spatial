{
 "cells": [
  {
   "cell_type": "markdown",
   "metadata": {},
   "source": [
    "# Calculate closest points"
   ]
  },
  {
   "cell_type": "markdown",
   "metadata": {},
   "source": [
    "## Notes:\n",
    "- Takes in two datasets containing longitude and latitude\n",
    "- Checks which point in dataset B is closest to point in dataset A on record level and appends data from dataset B to that record.\n",
    "- Exports resulting dataframe.\n",
    "- Uses `KDtree` algorithm and pooling from `multiprocessing` to speed up run time."
   ]
  },
  {
   "cell_type": "markdown",
   "metadata": {},
   "source": [
    "## Setup"
   ]
  },
  {
   "cell_type": "markdown",
   "metadata": {},
   "source": [
    "### Import relevant modules"
   ]
  },
  {
   "cell_type": "code",
   "execution_count": 1,
   "metadata": {},
   "outputs": [
    {
     "name": "stderr",
     "output_type": "stream",
     "text": [
      "/Library/Frameworks/Python.framework/Versions/3.6/lib/python3.6/importlib/_bootstrap.py:219: RuntimeWarning: numpy.dtype size changed, may indicate binary incompatibility. Expected 96, got 88\n",
      "  return f(*args, **kwds)\n",
      "/Library/Frameworks/Python.framework/Versions/3.6/lib/python3.6/importlib/_bootstrap.py:219: RuntimeWarning: numpy.dtype size changed, may indicate binary incompatibility. Expected 96, got 88\n",
      "  return f(*args, **kwds)\n"
     ]
    }
   ],
   "source": [
    "import pandas\n",
    "import datetime\n",
    "import numpy\n",
    "import math\n",
    "from scipy import spatial\n",
    "import random\n",
    "from multiprocessing import Pool"
   ]
  },
  {
   "cell_type": "markdown",
   "metadata": {},
   "source": [
    "### Import / Create Test Data"
   ]
  },
  {
   "cell_type": "code",
   "execution_count": 2,
   "metadata": {},
   "outputs": [],
   "source": [
    "numpy.random.seed(0)\n",
    "\n",
    "row_count = 2000\n",
    "row_count2 = 10000\n",
    "\n",
    "base_data = pandas.concat([pandas.Series([numpy.random.uniform(140,150) for n in range(row_count)]), \n",
    "                      pandas.Series([numpy.random.uniform(-32,-40) for n in range(row_count)])], \n",
    "                     axis = 1)\n",
    "base_data.columns = ['longitude', 'latitude']\n",
    "\n",
    "\n",
    "comparison_data = pandas.concat([pandas.Series([numpy.random.uniform(140,150) for n in range(row_count2)]), \n",
    "                      pandas.Series([numpy.random.uniform(-32,-40) for n in range(row_count2)])], \n",
    "                     axis = 1)\n",
    "comparison_data.columns = ['longitude', 'latitude']"
   ]
  },
  {
   "cell_type": "code",
   "execution_count": 3,
   "metadata": {},
   "outputs": [
    {
     "data": {
      "text/html": [
       "<div>\n",
       "<style scoped>\n",
       "    .dataframe tbody tr th:only-of-type {\n",
       "        vertical-align: middle;\n",
       "    }\n",
       "\n",
       "    .dataframe tbody tr th {\n",
       "        vertical-align: top;\n",
       "    }\n",
       "\n",
       "    .dataframe thead th {\n",
       "        text-align: right;\n",
       "    }\n",
       "</style>\n",
       "<table border=\"1\" class=\"dataframe\">\n",
       "  <thead>\n",
       "    <tr style=\"text-align: right;\">\n",
       "      <th></th>\n",
       "      <th>longitude</th>\n",
       "      <th>latitude</th>\n",
       "    </tr>\n",
       "  </thead>\n",
       "  <tbody>\n",
       "    <tr>\n",
       "      <th>0</th>\n",
       "      <td>145.488135</td>\n",
       "      <td>-38.492148</td>\n",
       "    </tr>\n",
       "    <tr>\n",
       "      <th>1</th>\n",
       "      <td>147.151894</td>\n",
       "      <td>-35.808672</td>\n",
       "    </tr>\n",
       "    <tr>\n",
       "      <th>2</th>\n",
       "      <td>146.027634</td>\n",
       "      <td>-36.185248</td>\n",
       "    </tr>\n",
       "    <tr>\n",
       "      <th>3</th>\n",
       "      <td>145.448832</td>\n",
       "      <td>-34.004165</td>\n",
       "    </tr>\n",
       "    <tr>\n",
       "      <th>4</th>\n",
       "      <td>144.236548</td>\n",
       "      <td>-36.840344</td>\n",
       "    </tr>\n",
       "  </tbody>\n",
       "</table>\n",
       "</div>"
      ],
      "text/plain": [
       "    longitude   latitude\n",
       "0  145.488135 -38.492148\n",
       "1  147.151894 -35.808672\n",
       "2  146.027634 -36.185248\n",
       "3  145.448832 -34.004165\n",
       "4  144.236548 -36.840344"
      ]
     },
     "execution_count": 3,
     "metadata": {},
     "output_type": "execute_result"
    }
   ],
   "source": [
    "base_data.head()"
   ]
  },
  {
   "cell_type": "code",
   "execution_count": 4,
   "metadata": {},
   "outputs": [
    {
     "data": {
      "text/html": [
       "<div>\n",
       "<style scoped>\n",
       "    .dataframe tbody tr th:only-of-type {\n",
       "        vertical-align: middle;\n",
       "    }\n",
       "\n",
       "    .dataframe tbody tr th {\n",
       "        vertical-align: top;\n",
       "    }\n",
       "\n",
       "    .dataframe thead th {\n",
       "        text-align: right;\n",
       "    }\n",
       "</style>\n",
       "<table border=\"1\" class=\"dataframe\">\n",
       "  <thead>\n",
       "    <tr style=\"text-align: right;\">\n",
       "      <th></th>\n",
       "      <th>longitude</th>\n",
       "      <th>latitude</th>\n",
       "    </tr>\n",
       "  </thead>\n",
       "  <tbody>\n",
       "    <tr>\n",
       "      <th>0</th>\n",
       "      <td>142.926420</td>\n",
       "      <td>-34.564760</td>\n",
       "    </tr>\n",
       "    <tr>\n",
       "      <th>1</th>\n",
       "      <td>145.665183</td>\n",
       "      <td>-33.998935</td>\n",
       "    </tr>\n",
       "    <tr>\n",
       "      <th>2</th>\n",
       "      <td>141.374144</td>\n",
       "      <td>-32.248582</td>\n",
       "    </tr>\n",
       "    <tr>\n",
       "      <th>3</th>\n",
       "      <td>143.497122</td>\n",
       "      <td>-38.831382</td>\n",
       "    </tr>\n",
       "    <tr>\n",
       "      <th>4</th>\n",
       "      <td>140.532164</td>\n",
       "      <td>-32.594086</td>\n",
       "    </tr>\n",
       "  </tbody>\n",
       "</table>\n",
       "</div>"
      ],
      "text/plain": [
       "    longitude   latitude\n",
       "0  142.926420 -34.564760\n",
       "1  145.665183 -33.998935\n",
       "2  141.374144 -32.248582\n",
       "3  143.497122 -38.831382\n",
       "4  140.532164 -32.594086"
      ]
     },
     "execution_count": 4,
     "metadata": {},
     "output_type": "execute_result"
    }
   ],
   "source": [
    "comparison_data.head()"
   ]
  },
  {
   "cell_type": "markdown",
   "metadata": {},
   "source": [
    "## Process "
   ]
  },
  {
   "cell_type": "markdown",
   "metadata": {},
   "source": [
    "### Create comparison points list"
   ]
  },
  {
   "cell_type": "code",
   "execution_count": 5,
   "metadata": {},
   "outputs": [],
   "source": [
    "comparison_data['geopoint'] = list(zip(comparison_data['longitude'], comparison_data['latitude']))\n",
    "base_data['geopoint'] = list(zip(base_data['longitude'], base_data['latitude']))"
   ]
  },
  {
   "cell_type": "markdown",
   "metadata": {},
   "source": [
    "### Create Spatial KDTree Object"
   ]
  },
  {
   "cell_type": "code",
   "execution_count": 6,
   "metadata": {},
   "outputs": [],
   "source": [
    "import sys\n",
    "sys.setrecursionlimit(10000)"
   ]
  },
  {
   "cell_type": "code",
   "execution_count": 7,
   "metadata": {},
   "outputs": [],
   "source": [
    "tree = spatial.KDTree(list(comparison_data['geopoint']))"
   ]
  },
  {
   "cell_type": "markdown",
   "metadata": {},
   "source": [
    "### Helper function to return shortest distance and index using KDTree defined above"
   ]
  },
  {
   "cell_type": "code",
   "execution_count": 8,
   "metadata": {},
   "outputs": [],
   "source": [
    "def return_distance_index_closest_point(point):\n",
    "    \n",
    "    distance_index_tuple = tree.query(point)\n",
    "    return distance_index_tuple"
   ]
  },
  {
   "cell_type": "markdown",
   "metadata": {},
   "source": [
    "### Calculate results"
   ]
  },
  {
   "cell_type": "code",
   "execution_count": 9,
   "metadata": {},
   "outputs": [
    {
     "name": "stdout",
     "output_type": "stream",
     "text": [
      "Checked 2,000 base points against 10,000 comparison points. 20,000,000 Iterations\n",
      "CPU times: user 18.1 ms, sys: 22.2 ms, total: 40.3 ms\n",
      "Wall time: 115 ms\n"
     ]
    }
   ],
   "source": [
    "%%time\n",
    "\n",
    "pool = Pool(6)\n",
    "results = list(pool.map(return_distance_index_closest_point, base_data['geopoint']))\n",
    "\n",
    "print(\"Checked {:,} base points against {:,} comparison points. {:,} Iterations\".format(base_data.shape[0],\n",
    "                                 comparison_data.shape[0],\n",
    "                                 base_data.shape[0] * comparison_data.shape[0]))"
   ]
  },
  {
   "cell_type": "markdown",
   "metadata": {},
   "source": [
    "### Convert results into pandas dataframe and preview results"
   ]
  },
  {
   "cell_type": "code",
   "execution_count": 10,
   "metadata": {},
   "outputs": [],
   "source": [
    "results_data = pandas.DataFrame(results, columns = ['euclidean_distance', 'comparison_index'])\n",
    "results_data['base_index'] = results_data.index"
   ]
  },
  {
   "cell_type": "markdown",
   "metadata": {},
   "source": [
    "## Join base_data, results_data and comparison_data"
   ]
  },
  {
   "cell_type": "markdown",
   "metadata": {},
   "source": [
    "### Create index columns (used to join tables)"
   ]
  },
  {
   "cell_type": "code",
   "execution_count": 11,
   "metadata": {},
   "outputs": [],
   "source": [
    "base_data['base_index'] = base_data.index\n",
    "comparison_da`ta['comparison_index'] = comparison_data.index"
   ]
  },
  {
   "cell_type": "markdown",
   "metadata": {},
   "source": [
    "### Join base_data to results_data "
   ]
  },
  {
   "cell_type": "code",
   "execution_count": 12,
   "metadata": {},
   "outputs": [],
   "source": [
    "base_results_data = pandas.merge(left = base_data.drop('geopoint',axis = 1), \n",
    "                                 right = results_data,\n",
    "                                 how = \"left\", \n",
    "                                 on = 'base_index')"
   ]
  },
  {
   "cell_type": "markdown",
   "metadata": {},
   "source": [
    "### Join resulting table above to comparison_data"
   ]
  },
  {
   "cell_type": "code",
   "execution_count": 13,
   "metadata": {},
   "outputs": [],
   "source": [
    "final_data = pandas.merge(left = base_results_data, \n",
    "                          right = comparison_data.drop('geopoint', axis = 1),\n",
    "                          how = \"left\", \n",
    "                          on = \"comparison_index\", \n",
    "                          suffixes = ['_base', '_comparison'])"
   ]
  },
  {
   "cell_type": "code",
   "execution_count": 14,
   "metadata": {},
   "outputs": [
    {
     "data": {
      "text/html": [
       "<div>\n",
       "<style scoped>\n",
       "    .dataframe tbody tr th:only-of-type {\n",
       "        vertical-align: middle;\n",
       "    }\n",
       "\n",
       "    .dataframe tbody tr th {\n",
       "        vertical-align: top;\n",
       "    }\n",
       "\n",
       "    .dataframe thead th {\n",
       "        text-align: right;\n",
       "    }\n",
       "</style>\n",
       "<table border=\"1\" class=\"dataframe\">\n",
       "  <thead>\n",
       "    <tr style=\"text-align: right;\">\n",
       "      <th></th>\n",
       "      <th>longitude_base</th>\n",
       "      <th>latitude_base</th>\n",
       "      <th>base_index</th>\n",
       "      <th>euclidean_distance</th>\n",
       "      <th>comparison_index</th>\n",
       "      <th>longitude_comparison</th>\n",
       "      <th>latitude_comparison</th>\n",
       "    </tr>\n",
       "  </thead>\n",
       "  <tbody>\n",
       "    <tr>\n",
       "      <th>0</th>\n",
       "      <td>145.488135</td>\n",
       "      <td>-38.492148</td>\n",
       "      <td>0</td>\n",
       "      <td>0.105521</td>\n",
       "      <td>8495</td>\n",
       "      <td>145.383740</td>\n",
       "      <td>-38.476771</td>\n",
       "    </tr>\n",
       "    <tr>\n",
       "      <th>1</th>\n",
       "      <td>147.151894</td>\n",
       "      <td>-35.808672</td>\n",
       "      <td>1</td>\n",
       "      <td>0.045165</td>\n",
       "      <td>8453</td>\n",
       "      <td>147.168630</td>\n",
       "      <td>-35.850621</td>\n",
       "    </tr>\n",
       "    <tr>\n",
       "      <th>2</th>\n",
       "      <td>146.027634</td>\n",
       "      <td>-36.185248</td>\n",
       "      <td>2</td>\n",
       "      <td>0.040061</td>\n",
       "      <td>3950</td>\n",
       "      <td>146.021346</td>\n",
       "      <td>-36.224812</td>\n",
       "    </tr>\n",
       "    <tr>\n",
       "      <th>3</th>\n",
       "      <td>145.448832</td>\n",
       "      <td>-34.004165</td>\n",
       "      <td>3</td>\n",
       "      <td>0.027558</td>\n",
       "      <td>6073</td>\n",
       "      <td>145.476111</td>\n",
       "      <td>-34.008075</td>\n",
       "    </tr>\n",
       "    <tr>\n",
       "      <th>4</th>\n",
       "      <td>144.236548</td>\n",
       "      <td>-36.840344</td>\n",
       "      <td>4</td>\n",
       "      <td>0.058634</td>\n",
       "      <td>6777</td>\n",
       "      <td>144.295180</td>\n",
       "      <td>-36.840730</td>\n",
       "    </tr>\n",
       "  </tbody>\n",
       "</table>\n",
       "</div>"
      ],
      "text/plain": [
       "   longitude_base  latitude_base  base_index  euclidean_distance  \\\n",
       "0      145.488135     -38.492148           0            0.105521   \n",
       "1      147.151894     -35.808672           1            0.045165   \n",
       "2      146.027634     -36.185248           2            0.040061   \n",
       "3      145.448832     -34.004165           3            0.027558   \n",
       "4      144.236548     -36.840344           4            0.058634   \n",
       "\n",
       "   comparison_index  longitude_comparison  latitude_comparison  \n",
       "0              8495            145.383740           -38.476771  \n",
       "1              8453            147.168630           -35.850621  \n",
       "2              3950            146.021346           -36.224812  \n",
       "3              6073            145.476111           -34.008075  \n",
       "4              6777            144.295180           -36.840730  "
      ]
     },
     "execution_count": 14,
     "metadata": {},
     "output_type": "execute_result"
    }
   ],
   "source": [
    "final_data.head()"
   ]
  },
  {
   "cell_type": "markdown",
   "metadata": {},
   "source": [
    "## Export final data to csv"
   ]
  },
  {
   "cell_type": "code",
   "execution_count": 15,
   "metadata": {},
   "outputs": [],
   "source": [
    "final_data.to_csv('/users/danielcorcoran/desktop/closest_points.csv', index = False)"
   ]
  }
 ],
 "metadata": {
  "kernelspec": {
   "display_name": "Python 3",
   "language": "python",
   "name": "python3"
  },
  "language_info": {
   "codemirror_mode": {
    "name": "ipython",
    "version": 3
   },
   "file_extension": ".py",
   "mimetype": "text/x-python",
   "name": "python",
   "nbconvert_exporter": "python",
   "pygments_lexer": "ipython3",
   "version": "3.6.5"
  },
  "toc": {
   "base_numbering": 1,
   "nav_menu": {},
   "number_sections": true,
   "sideBar": true,
   "skip_h1_title": false,
   "title_cell": "Table of Contents",
   "title_sidebar": "Contents",
   "toc_cell": false,
   "toc_position": {
    "height": "calc(100% - 180px)",
    "left": "10px",
    "top": "150px",
    "width": "243px"
   },
   "toc_section_display": true,
   "toc_window_display": true
  },
  "varInspector": {
   "cols": {
    "lenName": 16,
    "lenType": 16,
    "lenVar": 40
   },
   "kernels_config": {
    "python": {
     "delete_cmd_postfix": "",
     "delete_cmd_prefix": "del ",
     "library": "var_list.py",
     "varRefreshCmd": "print(var_dic_list())"
    },
    "r": {
     "delete_cmd_postfix": ") ",
     "delete_cmd_prefix": "rm(",
     "library": "var_list.r",
     "varRefreshCmd": "cat(var_dic_list()) "
    }
   },
   "position": {
    "height": "584px",
    "left": "1056px",
    "right": "12px",
    "top": "120px",
    "width": "358px"
   },
   "types_to_exclude": [
    "module",
    "function",
    "builtin_function_or_method",
    "instance",
    "_Feature"
   ],
   "window_display": false
  }
 },
 "nbformat": 4,
 "nbformat_minor": 2
}
