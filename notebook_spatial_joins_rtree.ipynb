{
 "cells": [
  {
   "cell_type": "markdown",
   "metadata": {},
   "source": [
    "### Import Modules"
   ]
  },
  {
   "cell_type": "code",
   "execution_count": 4,
   "metadata": {},
   "outputs": [
    {
     "name": "stderr",
     "output_type": "stream",
     "text": [
      "/Library/Frameworks/Python.framework/Versions/3.6/lib/python3.6/importlib/_bootstrap.py:219: RuntimeWarning: numpy.dtype size changed, may indicate binary incompatibility. Expected 96, got 88\n",
      "  return f(*args, **kwds)\n",
      "/Library/Frameworks/Python.framework/Versions/3.6/lib/python3.6/importlib/_bootstrap.py:219: RuntimeWarning: numpy.dtype size changed, may indicate binary incompatibility. Expected 96, got 88\n",
      "  return f(*args, **kwds)\n"
     ]
    }
   ],
   "source": [
    "import fiona\n",
    "from shapely.geometry import shape, Point\n",
    "from shapely import speedups\n",
    "speedups.enable()\n",
    "import datetime\n",
    "import pandas"
   ]
  },
  {
   "cell_type": "markdown",
   "metadata": {},
   "source": [
    "### Set paths"
   ]
  },
  {
   "cell_type": "code",
   "execution_count": 1,
   "metadata": {},
   "outputs": [],
   "source": [
    "points = \"/users/danielcorcoran/desktop/test_coordinates_10K.csv\"\n",
    "lga_shapefile = \"/users/danielcorcoran/desktop/github_repos/python_nb_data_spatial/data/LGA_ABS_16/LGA_2016_AUST.shp\"\n",
    "meshblock_shapefile = \"/users/danielcorcoran/desktop/github_repos/python_nb_data_spatial/data/1270055001_mb_2016_vic_shape/MB_2016_VIC.shp\""
   ]
  },
  {
   "cell_type": "markdown",
   "metadata": {},
   "source": [
    "### Import data and preview"
   ]
  },
  {
   "cell_type": "code",
   "execution_count": 2,
   "metadata": {},
   "outputs": [],
   "source": [
    "#data = pandas.read_csv(\"/users/danielcorcoran/desktop/test_coordinates_10K.csv\")"
   ]
  },
  {
   "cell_type": "code",
   "execution_count": 5,
   "metadata": {},
   "outputs": [],
   "source": [
    "#Create test data\n",
    "\n",
    "import numpy\n",
    "numpy.random.seed(0)\n",
    "\n",
    "row_count = 20000\n",
    "\n",
    "data = pandas.concat([pandas.Series([numpy.random.uniform(140,150) for n in range(row_count)]), \n",
    "                      pandas.Series([numpy.random.uniform(-32,-40) for n in range(row_count)])], \n",
    "                     axis = 1)\n",
    "\n",
    "data.columns = ['longitude', 'latitude']\n",
    "data.head()"
   ]
  },
  {
   "cell_type": "code",
   "execution_count": 7,
   "metadata": {},
   "outputs": [
    {
     "name": "stdout",
     "output_type": "stream",
     "text": [
      "Checking data shape:\n",
      "(20000, 2)\n"
     ]
    }
   ],
   "source": [
    "print('Checking data shape:\\n{}'.format(data.shape))"
   ]
  },
  {
   "cell_type": "code",
   "execution_count": 8,
   "metadata": {},
   "outputs": [
    {
     "name": "stdout",
     "output_type": "stream",
     "text": [
      "Checking data headers:\n",
      "['longitude', 'latitude']\n"
     ]
    }
   ],
   "source": [
    "print('Checking data headers:\\n{}'.format(list(data.columns)))"
   ]
  },
  {
   "cell_type": "code",
   "execution_count": 9,
   "metadata": {},
   "outputs": [],
   "source": [
    "long_name = 'longitude'\n",
    "lat_name = 'latitude'"
   ]
  },
  {
   "cell_type": "markdown",
   "metadata": {},
   "source": [
    "### Create list of polygons containing Victoria only from LGA shapefile"
   ]
  },
  {
   "cell_type": "code",
   "execution_count": 11,
   "metadata": {},
   "outputs": [],
   "source": [
    "all_polygons = [polygon for polygon in fiona.open(meshblock_shapefile)]"
   ]
  },
  {
   "cell_type": "code",
   "execution_count": 14,
   "metadata": {},
   "outputs": [
    {
     "name": "stdout",
     "output_type": "stream",
     "text": [
      "Found 85006 polygons in shapefile within victoria.\n"
     ]
    }
   ],
   "source": [
    "vic_polygons = []\n",
    "\n",
    "for polygon in all_polygons:\n",
    "    if polygon['properties']['STE_NAME16'] == 'Victoria' and polygon['geometry'] is not None:\n",
    "        vic_polygons.append(polygon)\n",
    "        \n",
    "print(\"Found {} polygons in shapefile within victoria.\".format(len(vic_polygons)))"
   ]
  },
  {
   "cell_type": "markdown",
   "metadata": {},
   "source": [
    "### Build spatial tree"
   ]
  },
  {
   "cell_type": "code",
   "execution_count": 15,
   "metadata": {},
   "outputs": [],
   "source": [
    "from rtree import index\n",
    "rtree_index = index.Index()"
   ]
  },
  {
   "cell_type": "code",
   "execution_count": 16,
   "metadata": {},
   "outputs": [],
   "source": [
    "simplified_polygons = []\n",
    "tolerance = 0.0005\n",
    "\n",
    "for position, polygon in enumerate(vic_polygons):\n",
    "    rtree_index.insert(position, shape(polygon['geometry']).bounds)\n",
    "    shapeobject = shape(polygon['geometry'])\n",
    "    simplified_polygons.append(shapeobject.simplify(tolerance = tolerance))\n",
    "    "
   ]
  },
  {
   "cell_type": "markdown",
   "metadata": {},
   "source": [
    "### Process  (with apply)"
   ]
  },
  {
   "cell_type": "code",
   "execution_count": 17,
   "metadata": {},
   "outputs": [],
   "source": [
    "# Create function to return the properties for a shapefile if a match is found in rtree_index\n",
    "def return_properties(point):\n",
    "\n",
    "    for index in rtree_index.intersection(point.coords[0]):\n",
    "        #if point.within(shape(vic_polygons[index]['geometry'])):\n",
    "        if point.within(simplified_polygons[index]):\n",
    "            return vic_polygons[index]['properties']"
   ]
  },
  {
   "cell_type": "code",
   "execution_count": 18,
   "metadata": {},
   "outputs": [],
   "source": [
    "# Create new features with point objects using long and lat features\n",
    "data['point'] = (list(zip(data[long_name], data[lat_name])))\n",
    "data[\"shapely_point\"] = data['point'].apply(Point)"
   ]
  },
  {
   "cell_type": "code",
   "execution_count": 19,
   "metadata": {},
   "outputs": [],
   "source": [
    "from multiprocessing import Pool\n",
    "p = Pool(4)"
   ]
  },
  {
   "cell_type": "code",
   "execution_count": 20,
   "metadata": {},
   "outputs": [
    {
     "name": "stdout",
     "output_type": "stream",
     "text": [
      "CPU times: user 6.15 s, sys: 187 ms, total: 6.34 s\n",
      "Wall time: 7.57 s\n"
     ]
    }
   ],
   "source": [
    "%%time\n",
    "\n",
    "data['results'] = list(p.map(return_properties, data[\"shapely_point\"]))\n",
    "\n",
    "# Join original data with results series split into a new dataframe\n",
    "# (one column for each property)\n",
    "data = pandas.concat([data, data['results'].apply(pandas.Series)], axis = 1)\n",
    "\n",
    "# Drop irrelevant columns\n",
    "data.drop(['shapely_point', 'results', 'point'], axis = 1, inplace = True)"
   ]
  },
  {
   "cell_type": "code",
   "execution_count": 21,
   "metadata": {},
   "outputs": [
    {
     "name": "stdout",
     "output_type": "stream",
     "text": [
      "    longitude   latitude MB_CODE16 MB_CAT16 SA1_MAIN16 SA1_7DIG16 SA2_MAIN16  \\\n",
      "0  145.488135 -35.137384       NaN      NaN        NaN        NaN        NaN   \n",
      "1  147.151894 -32.329253       NaN      NaN        NaN        NaN        NaN   \n",
      "2  146.027634 -39.386405       NaN      NaN        NaN        NaN        NaN   \n",
      "3  145.448832 -35.249880       NaN      NaN        NaN        NaN        NaN   \n",
      "4  144.236548 -39.554257       NaN      NaN        NaN        NaN        NaN   \n",
      "\n",
      "  SA2_5DIG16 SA2_NAME16 SA3_CODE16 SA3_NAME16 SA4_CODE16 SA4_NAME16  \\\n",
      "0        NaN        NaN        NaN        NaN        NaN        NaN   \n",
      "1        NaN        NaN        NaN        NaN        NaN        NaN   \n",
      "2        NaN        NaN        NaN        NaN        NaN        NaN   \n",
      "3        NaN        NaN        NaN        NaN        NaN        NaN   \n",
      "4        NaN        NaN        NaN        NaN        NaN        NaN   \n",
      "\n",
      "  GCC_CODE16 GCC_NAME16 STE_CODE16 STE_NAME16  AREASQKM16  \n",
      "0        NaN        NaN        NaN        NaN         NaN  \n",
      "1        NaN        NaN        NaN        NaN         NaN  \n",
      "2        NaN        NaN        NaN        NaN         NaN  \n",
      "3        NaN        NaN        NaN        NaN         NaN  \n",
      "4        NaN        NaN        NaN        NaN         NaN  \n"
     ]
    }
   ],
   "source": [
    "print(data.head())"
   ]
  },
  {
   "cell_type": "code",
   "execution_count": 23,
   "metadata": {},
   "outputs": [
    {
     "name": "stdout",
     "output_type": "stream",
     "text": [
      "Points found 5669. Total Points 20000. % Points found 28.34%\n"
     ]
    }
   ],
   "source": [
    "# Use 'MB_CODE16' for mesh blocks and 'LGA_CODE16' for local government areas\n",
    "column_header = 'MB_CODE16'\n",
    "\n",
    "print('Points found {}. Total Points {}. % Points found {:.2%}'.format(data[column_header].notnull().sum(),\n",
    "                                                                        data[column_header].shape[0],\n",
    "                                (data[column_header].notnull().sum()/data[column_header].shape[0])))"
   ]
  },
  {
   "cell_type": "markdown",
   "metadata": {},
   "source": [
    "### Export"
   ]
  },
  {
   "cell_type": "code",
   "execution_count": 26,
   "metadata": {},
   "outputs": [],
   "source": [
    "data.to_csv('/users/danielcorcoran/desktop/spatial_join_results.csv', index = False)"
   ]
  }
 ],
 "metadata": {
  "kernelspec": {
   "display_name": "Python 3",
   "language": "python",
   "name": "python3"
  },
  "language_info": {
   "codemirror_mode": {
    "name": "ipython",
    "version": 3
   },
   "file_extension": ".py",
   "mimetype": "text/x-python",
   "name": "python",
   "nbconvert_exporter": "python",
   "pygments_lexer": "ipython3",
   "version": "3.6.5"
  },
  "toc": {
   "base_numbering": 1,
   "nav_menu": {},
   "number_sections": true,
   "sideBar": true,
   "skip_h1_title": false,
   "title_cell": "Table of Contents",
   "title_sidebar": "Contents",
   "toc_cell": false,
   "toc_position": {
    "height": "calc(100% - 180px)",
    "left": "10px",
    "top": "150px",
    "width": "261px"
   },
   "toc_section_display": true,
   "toc_window_display": true
  },
  "varInspector": {
   "cols": {
    "lenName": 16,
    "lenType": 16,
    "lenVar": 40
   },
   "kernels_config": {
    "python": {
     "delete_cmd_postfix": "",
     "delete_cmd_prefix": "del ",
     "library": "var_list.py",
     "varRefreshCmd": "print(var_dic_list())"
    },
    "r": {
     "delete_cmd_postfix": ") ",
     "delete_cmd_prefix": "rm(",
     "library": "var_list.r",
     "varRefreshCmd": "cat(var_dic_list()) "
    }
   },
   "types_to_exclude": [
    "module",
    "function",
    "builtin_function_or_method",
    "instance",
    "_Feature"
   ],
   "window_display": false
  }
 },
 "nbformat": 4,
 "nbformat_minor": 2
}
