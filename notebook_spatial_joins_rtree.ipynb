{
 "cells": [
  {
   "cell_type": "markdown",
   "metadata": {},
   "source": [
    "### Import Modules"
   ]
  },
  {
   "cell_type": "code",
   "execution_count": 1,
   "metadata": {},
   "outputs": [
    {
     "name": "stderr",
     "output_type": "stream",
     "text": [
      "/Library/Frameworks/Python.framework/Versions/3.6/lib/python3.6/importlib/_bootstrap.py:219: RuntimeWarning: numpy.dtype size changed, may indicate binary incompatibility. Expected 96, got 88\n",
      "  return f(*args, **kwds)\n",
      "/Library/Frameworks/Python.framework/Versions/3.6/lib/python3.6/importlib/_bootstrap.py:219: RuntimeWarning: numpy.dtype size changed, may indicate binary incompatibility. Expected 96, got 88\n",
      "  return f(*args, **kwds)\n"
     ]
    }
   ],
   "source": [
    "import fiona\n",
    "from shapely.geometry import shape, Point\n",
    "from shapely import speedups\n",
    "speedups.enable()\n",
    "import datetime\n",
    "import pandas"
   ]
  },
  {
   "cell_type": "markdown",
   "metadata": {},
   "source": [
    "### Set paths"
   ]
  },
  {
   "cell_type": "code",
   "execution_count": 2,
   "metadata": {},
   "outputs": [],
   "source": [
    "points = \"/users/danielcorcoran/desktop/test_coordinates_10K.csv\"\n",
    "shapefile = \"/users/danielcorcoran/desktop/github_repos/python_nb_data_spatial/data/LGA_ABS_16/LGA_2016_AUST.shp\""
   ]
  },
  {
   "cell_type": "markdown",
   "metadata": {},
   "source": [
    "### Import data and preview"
   ]
  },
  {
   "cell_type": "code",
   "execution_count": 3,
   "metadata": {},
   "outputs": [],
   "source": [
    "#data = pandas.read_csv(\"/users/danielcorcoran/desktop/test_coordinates_10K.csv\")"
   ]
  },
  {
   "cell_type": "code",
   "execution_count": 4,
   "metadata": {},
   "outputs": [],
   "source": [
    "import numpy\n",
    "x  = [numpy.random.uniform(140,150) for n in range(200000)]\n",
    "y  = [numpy.random.uniform(-32,-40) for n in range(200000)]\n",
    "data = pandas.concat([pandas.Series(x), pandas.Series(y)], axis = 1)\n",
    "data.columns = ['longitude', 'latitude']"
   ]
  },
  {
   "cell_type": "code",
   "execution_count": 5,
   "metadata": {},
   "outputs": [
    {
     "name": "stdout",
     "output_type": "stream",
     "text": [
      "Checking data shape:\n",
      "(200000, 2)\n"
     ]
    }
   ],
   "source": [
    "print('Checking data shape:\\n{}'.format(data.shape))"
   ]
  },
  {
   "cell_type": "code",
   "execution_count": 6,
   "metadata": {},
   "outputs": [
    {
     "name": "stdout",
     "output_type": "stream",
     "text": [
      "Checking data headers:\n",
      "['longitude', 'latitude']\n"
     ]
    }
   ],
   "source": [
    "print('Checking data headers:\\n{}'.format(list(data.columns)))"
   ]
  },
  {
   "cell_type": "code",
   "execution_count": 7,
   "metadata": {},
   "outputs": [],
   "source": [
    "long_name = 'longitude'\n",
    "lat_name = 'latitude'"
   ]
  },
  {
   "cell_type": "markdown",
   "metadata": {},
   "source": [
    "### Create list of polygons containing Victoria only from LGA shapefile"
   ]
  },
  {
   "cell_type": "code",
   "execution_count": 8,
   "metadata": {},
   "outputs": [],
   "source": [
    "all_polygons = [polygon for polygon in fiona.open(shapefile)]"
   ]
  },
  {
   "cell_type": "code",
   "execution_count": 9,
   "metadata": {},
   "outputs": [],
   "source": [
    "vic_polygons = []\n",
    "\n",
    "for polygon in all_polygons:\n",
    "    if polygon['properties']['STE_NAME16'] == 'Victoria':\n",
    "        vic_polygons.append(polygon)"
   ]
  },
  {
   "cell_type": "markdown",
   "metadata": {},
   "source": [
    "### Build spatial tree"
   ]
  },
  {
   "cell_type": "code",
   "execution_count": 10,
   "metadata": {},
   "outputs": [],
   "source": [
    "from rtree import index\n",
    "rtree_index = index.Index()"
   ]
  },
  {
   "cell_type": "code",
   "execution_count": 11,
   "metadata": {},
   "outputs": [
    {
     "name": "stdout",
     "output_type": "stream",
     "text": [
      "Error at position 80\n",
      "Error at position 81\n"
     ]
    }
   ],
   "source": [
    "for position, polygon in enumerate(vic_polygons):\n",
    "    try:\n",
    "        rtree_index.insert(position, shape(polygon['geometry']).bounds)\n",
    "    except:\n",
    "        print(\"Error at position\", position)"
   ]
  },
  {
   "cell_type": "markdown",
   "metadata": {},
   "source": [
    "### Process  (with apply)"
   ]
  },
  {
   "cell_type": "code",
   "execution_count": 12,
   "metadata": {},
   "outputs": [],
   "source": [
    "# Create function to return the properties for a shapefile if a match is found in rtree_index\n",
    "def return_properties(point):\n",
    "    for index in rtree_index.intersection(point.coords[0]):\n",
    "        if point.within(shape(vic_polygons[index]['geometry'])):\n",
    "            return vic_polygons[index]['properties']"
   ]
  },
  {
   "cell_type": "code",
   "execution_count": 13,
   "metadata": {},
   "outputs": [],
   "source": [
    "# Create new features with point objects using long and lat features\n",
    "data['point'] = (list(zip(data[long_name], data[lat_name])))\n",
    "data[\"shapely_point\"] = data['point'].apply(Point)\n",
    "shapely_points = list(data['shapely_point'])"
   ]
  },
  {
   "cell_type": "code",
   "execution_count": 14,
   "metadata": {},
   "outputs": [],
   "source": [
    "from multiprocessing import Pool\n",
    "p = Pool(4)"
   ]
  },
  {
   "cell_type": "code",
   "execution_count": null,
   "metadata": {},
   "outputs": [],
   "source": [
    "%%time\n",
    "\n",
    "data['results'] = list(p.map(return_properties, shapely_points))\n",
    "\n",
    "# Join original data with results series split into a new dataframe\n",
    "# (one column for each property)\n",
    "data = pandas.concat([data, data['results'].apply(pandas.Series)], axis = 1)\n",
    "\n",
    "# Drop irrelevant columns\n",
    "data.drop(['shapely_point', 'results', 'point'], axis = 1, inplace = True)"
   ]
  },
  {
   "cell_type": "code",
   "execution_count": null,
   "metadata": {},
   "outputs": [],
   "source": [
    "print(data.head())"
   ]
  },
  {
   "cell_type": "code",
   "execution_count": null,
   "metadata": {},
   "outputs": [],
   "source": [
    "print('Points found {}. Total Points {}. % Points found {:.2%}'.format(data['LGA_CODE16'].notnull().sum(),\n",
    "                                                                        data['LGA_CODE16'].shape[0],\n",
    "                                (data['LGA_CODE16'].notnull().sum()/data['LGA_CODE16'].shape[0])))"
   ]
  },
  {
   "cell_type": "markdown",
   "metadata": {},
   "source": [
    "### Export"
   ]
  },
  {
   "cell_type": "code",
   "execution_count": null,
   "metadata": {},
   "outputs": [],
   "source": [
    "data.to_csv('/users/danielcorcoran/desktop/test_points.csv', index = False)"
   ]
  }
 ],
 "metadata": {
  "kernelspec": {
   "display_name": "Python 3",
   "language": "python",
   "name": "python3"
  },
  "language_info": {
   "codemirror_mode": {
    "name": "ipython",
    "version": 3
   },
   "file_extension": ".py",
   "mimetype": "text/x-python",
   "name": "python",
   "nbconvert_exporter": "python",
   "pygments_lexer": "ipython3",
   "version": "3.6.5"
  },
  "toc": {
   "base_numbering": 1,
   "nav_menu": {},
   "number_sections": true,
   "sideBar": true,
   "skip_h1_title": false,
   "title_cell": "Table of Contents",
   "title_sidebar": "Contents",
   "toc_cell": false,
   "toc_position": {
    "height": "calc(100% - 180px)",
    "left": "10px",
    "top": "150px",
    "width": "261px"
   },
   "toc_section_display": true,
   "toc_window_display": true
  },
  "varInspector": {
   "cols": {
    "lenName": 16,
    "lenType": 16,
    "lenVar": 40
   },
   "kernels_config": {
    "python": {
     "delete_cmd_postfix": "",
     "delete_cmd_prefix": "del ",
     "library": "var_list.py",
     "varRefreshCmd": "print(var_dic_list())"
    },
    "r": {
     "delete_cmd_postfix": ") ",
     "delete_cmd_prefix": "rm(",
     "library": "var_list.r",
     "varRefreshCmd": "cat(var_dic_list()) "
    }
   },
   "types_to_exclude": [
    "module",
    "function",
    "builtin_function_or_method",
    "instance",
    "_Feature"
   ],
   "window_display": false
  }
 },
 "nbformat": 4,
 "nbformat_minor": 2
}
