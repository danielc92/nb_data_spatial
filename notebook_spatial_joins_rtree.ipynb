{
 "cells": [
  {
   "cell_type": "markdown",
   "metadata": {},
   "source": [
    "### Import Modules"
   ]
  },
  {
   "cell_type": "code",
   "execution_count": 1,
   "metadata": {},
   "outputs": [
    {
     "name": "stderr",
     "output_type": "stream",
     "text": [
      "/Library/Frameworks/Python.framework/Versions/3.6/lib/python3.6/importlib/_bootstrap.py:219: RuntimeWarning: numpy.dtype size changed, may indicate binary incompatibility. Expected 96, got 88\n",
      "  return f(*args, **kwds)\n",
      "/Library/Frameworks/Python.framework/Versions/3.6/lib/python3.6/importlib/_bootstrap.py:219: RuntimeWarning: numpy.dtype size changed, may indicate binary incompatibility. Expected 96, got 88\n",
      "  return f(*args, **kwds)\n"
     ]
    }
   ],
   "source": [
    "import fiona\n",
    "from shapely.geometry import shape, Point, asShape\n",
    "from shapely import speedups\n",
    "speedups.enable()\n",
    "import datetime\n",
    "import pandas"
   ]
  },
  {
   "cell_type": "markdown",
   "metadata": {},
   "source": [
    "### Set paths"
   ]
  },
  {
   "cell_type": "code",
   "execution_count": 2,
   "metadata": {},
   "outputs": [],
   "source": [
    "points = \"/users/danielcorcoran/desktop/test_coordinates_10K.csv\"\n",
    "shapefile = \"/users/danielcorcoran/desktop/github_repos/python_nb_data_spatial/data/LGA_ABS_16/LGA_2016_AUST.shp\""
   ]
  },
  {
   "cell_type": "markdown",
   "metadata": {},
   "source": [
    "### Import points"
   ]
  },
  {
   "cell_type": "code",
   "execution_count": 3,
   "metadata": {},
   "outputs": [],
   "source": [
    "data = pandas.read_csv(\"/users/danielcorcoran/desktop/test_coordinates_10K.csv\")"
   ]
  },
  {
   "cell_type": "code",
   "execution_count": 4,
   "metadata": {},
   "outputs": [
    {
     "name": "stdout",
     "output_type": "stream",
     "text": [
      "(10000, 3)\n"
     ]
    }
   ],
   "source": [
    "print(data.shape)"
   ]
  },
  {
   "cell_type": "code",
   "execution_count": 5,
   "metadata": {},
   "outputs": [
    {
     "data": {
      "text/plain": [
       "Index(['longitude', 'latitude', 'id'], dtype='object')"
      ]
     },
     "execution_count": 5,
     "metadata": {},
     "output_type": "execute_result"
    }
   ],
   "source": [
    "data.columns"
   ]
  },
  {
   "cell_type": "code",
   "execution_count": 6,
   "metadata": {},
   "outputs": [],
   "source": [
    "long_name = 'longitude'\n",
    "lat_name = 'latitude'"
   ]
  },
  {
   "cell_type": "code",
   "execution_count": 7,
   "metadata": {},
   "outputs": [],
   "source": [
    "all_polygons = [polygon for polygon in fiona.open(shapefile)]"
   ]
  },
  {
   "cell_type": "code",
   "execution_count": 8,
   "metadata": {},
   "outputs": [],
   "source": [
    "vic_polygons = []\n",
    "\n",
    "for polygon in all_polygons:\n",
    "    if polygon['properties']['STE_NAME16'] == 'Victoria':\n",
    "        vic_polygons.append(polygon)"
   ]
  },
  {
   "cell_type": "markdown",
   "metadata": {},
   "source": [
    "### Build spatial tree"
   ]
  },
  {
   "cell_type": "code",
   "execution_count": 9,
   "metadata": {},
   "outputs": [],
   "source": [
    "from rtree import index\n",
    "\n",
    "rtree_index = index.Index()"
   ]
  },
  {
   "cell_type": "code",
   "execution_count": 10,
   "metadata": {},
   "outputs": [
    {
     "name": "stdout",
     "output_type": "stream",
     "text": [
      "Error at position 80\n",
      "Error at position 81\n"
     ]
    }
   ],
   "source": [
    "for position, polygon in enumerate(vic_polygons):\n",
    "    try:\n",
    "        rtree_index.insert(position, shape(polygon['geometry']).bounds)\n",
    "    except:\n",
    "        print(\"Error at position\", position)"
   ]
  },
  {
   "cell_type": "markdown",
   "metadata": {},
   "source": [
    "### Process  (with apply)"
   ]
  },
  {
   "cell_type": "code",
   "execution_count": 11,
   "metadata": {},
   "outputs": [],
   "source": [
    "def return_properties(point):\n",
    "    for index in rtree_index.intersection(point.coords[0]):\n",
    "        if point.within(shape(vic_polygons[index]['geometry'])):\n",
    "            return vic_polygons[index]['properties']\n",
    "            break"
   ]
  },
  {
   "cell_type": "code",
   "execution_count": 12,
   "metadata": {},
   "outputs": [],
   "source": [
    "data['point'] = (list(zip(data[long_name], data[lat_name])))"
   ]
  },
  {
   "cell_type": "code",
   "execution_count": 13,
   "metadata": {},
   "outputs": [],
   "source": [
    "data[\"shapely_point\"] = data['point'].apply(Point)"
   ]
  },
  {
   "cell_type": "code",
   "execution_count": 14,
   "metadata": {},
   "outputs": [
    {
     "data": {
      "text/html": [
       "<div>\n",
       "<style scoped>\n",
       "    .dataframe tbody tr th:only-of-type {\n",
       "        vertical-align: middle;\n",
       "    }\n",
       "\n",
       "    .dataframe tbody tr th {\n",
       "        vertical-align: top;\n",
       "    }\n",
       "\n",
       "    .dataframe thead th {\n",
       "        text-align: right;\n",
       "    }\n",
       "</style>\n",
       "<table border=\"1\" class=\"dataframe\">\n",
       "  <thead>\n",
       "    <tr style=\"text-align: right;\">\n",
       "      <th></th>\n",
       "      <th>longitude</th>\n",
       "      <th>latitude</th>\n",
       "      <th>id</th>\n",
       "      <th>point</th>\n",
       "      <th>shapely_point</th>\n",
       "    </tr>\n",
       "  </thead>\n",
       "  <tbody>\n",
       "    <tr>\n",
       "      <th>0</th>\n",
       "      <td>144.200311</td>\n",
       "      <td>-36.814039</td>\n",
       "      <td>unique_0</td>\n",
       "      <td>(144.20031142468736, -36.814038954850226)</td>\n",
       "      <td>POINT (144.2003114246874 -36.81403895485023)</td>\n",
       "    </tr>\n",
       "    <tr>\n",
       "      <th>1</th>\n",
       "      <td>144.296159</td>\n",
       "      <td>-32.650504</td>\n",
       "      <td>unique_1</td>\n",
       "      <td>(144.2961591274601, -32.650504069735746)</td>\n",
       "      <td>POINT (144.2961591274601 -32.65050406973575)</td>\n",
       "    </tr>\n",
       "    <tr>\n",
       "      <th>2</th>\n",
       "      <td>147.628548</td>\n",
       "      <td>-38.126470</td>\n",
       "      <td>unique_2</td>\n",
       "      <td>(147.62854800221467, -38.126469641893785)</td>\n",
       "      <td>POINT (147.6285480022147 -38.12646964189378)</td>\n",
       "    </tr>\n",
       "    <tr>\n",
       "      <th>3</th>\n",
       "      <td>144.437691</td>\n",
       "      <td>-37.149164</td>\n",
       "      <td>unique_3</td>\n",
       "      <td>(144.43769068875181, -37.14916386980843)</td>\n",
       "      <td>POINT (144.4376906887518 -37.14916386980843)</td>\n",
       "    </tr>\n",
       "    <tr>\n",
       "      <th>4</th>\n",
       "      <td>147.175428</td>\n",
       "      <td>-37.748786</td>\n",
       "      <td>unique_4</td>\n",
       "      <td>(147.17542810183818, -37.74878585769388)</td>\n",
       "      <td>POINT (147.1754281018382 -37.74878585769388)</td>\n",
       "    </tr>\n",
       "  </tbody>\n",
       "</table>\n",
       "</div>"
      ],
      "text/plain": [
       "    longitude   latitude        id                                      point  \\\n",
       "0  144.200311 -36.814039  unique_0  (144.20031142468736, -36.814038954850226)   \n",
       "1  144.296159 -32.650504  unique_1   (144.2961591274601, -32.650504069735746)   \n",
       "2  147.628548 -38.126470  unique_2  (147.62854800221467, -38.126469641893785)   \n",
       "3  144.437691 -37.149164  unique_3   (144.43769068875181, -37.14916386980843)   \n",
       "4  147.175428 -37.748786  unique_4   (147.17542810183818, -37.74878585769388)   \n",
       "\n",
       "                                  shapely_point  \n",
       "0  POINT (144.2003114246874 -36.81403895485023)  \n",
       "1  POINT (144.2961591274601 -32.65050406973575)  \n",
       "2  POINT (147.6285480022147 -38.12646964189378)  \n",
       "3  POINT (144.4376906887518 -37.14916386980843)  \n",
       "4  POINT (147.1754281018382 -37.74878585769388)  "
      ]
     },
     "execution_count": 14,
     "metadata": {},
     "output_type": "execute_result"
    }
   ],
   "source": [
    "data.head()"
   ]
  },
  {
   "cell_type": "code",
   "execution_count": 15,
   "metadata": {},
   "outputs": [
    {
     "data": {
      "text/html": [
       "<div>\n",
       "<style scoped>\n",
       "    .dataframe tbody tr th:only-of-type {\n",
       "        vertical-align: middle;\n",
       "    }\n",
       "\n",
       "    .dataframe tbody tr th {\n",
       "        vertical-align: top;\n",
       "    }\n",
       "\n",
       "    .dataframe thead th {\n",
       "        text-align: right;\n",
       "    }\n",
       "</style>\n",
       "<table border=\"1\" class=\"dataframe\">\n",
       "  <thead>\n",
       "    <tr style=\"text-align: right;\">\n",
       "      <th></th>\n",
       "      <th>longitude</th>\n",
       "      <th>latitude</th>\n",
       "      <th>id</th>\n",
       "      <th>point</th>\n",
       "      <th>shapely_point</th>\n",
       "    </tr>\n",
       "  </thead>\n",
       "  <tbody>\n",
       "    <tr>\n",
       "      <th>0</th>\n",
       "      <td>144.200311</td>\n",
       "      <td>-36.814039</td>\n",
       "      <td>unique_0</td>\n",
       "      <td>(144.20031142468736, -36.814038954850226)</td>\n",
       "      <td>POINT (144.2003114246874 -36.81403895485023)</td>\n",
       "    </tr>\n",
       "    <tr>\n",
       "      <th>1</th>\n",
       "      <td>144.296159</td>\n",
       "      <td>-32.650504</td>\n",
       "      <td>unique_1</td>\n",
       "      <td>(144.2961591274601, -32.650504069735746)</td>\n",
       "      <td>POINT (144.2961591274601 -32.65050406973575)</td>\n",
       "    </tr>\n",
       "    <tr>\n",
       "      <th>2</th>\n",
       "      <td>147.628548</td>\n",
       "      <td>-38.126470</td>\n",
       "      <td>unique_2</td>\n",
       "      <td>(147.62854800221467, -38.126469641893785)</td>\n",
       "      <td>POINT (147.6285480022147 -38.12646964189378)</td>\n",
       "    </tr>\n",
       "    <tr>\n",
       "      <th>3</th>\n",
       "      <td>144.437691</td>\n",
       "      <td>-37.149164</td>\n",
       "      <td>unique_3</td>\n",
       "      <td>(144.43769068875181, -37.14916386980843)</td>\n",
       "      <td>POINT (144.4376906887518 -37.14916386980843)</td>\n",
       "    </tr>\n",
       "    <tr>\n",
       "      <th>4</th>\n",
       "      <td>147.175428</td>\n",
       "      <td>-37.748786</td>\n",
       "      <td>unique_4</td>\n",
       "      <td>(147.17542810183818, -37.74878585769388)</td>\n",
       "      <td>POINT (147.1754281018382 -37.74878585769388)</td>\n",
       "    </tr>\n",
       "  </tbody>\n",
       "</table>\n",
       "</div>"
      ],
      "text/plain": [
       "    longitude   latitude        id                                      point  \\\n",
       "0  144.200311 -36.814039  unique_0  (144.20031142468736, -36.814038954850226)   \n",
       "1  144.296159 -32.650504  unique_1   (144.2961591274601, -32.650504069735746)   \n",
       "2  147.628548 -38.126470  unique_2  (147.62854800221467, -38.126469641893785)   \n",
       "3  144.437691 -37.149164  unique_3   (144.43769068875181, -37.14916386980843)   \n",
       "4  147.175428 -37.748786  unique_4   (147.17542810183818, -37.74878585769388)   \n",
       "\n",
       "                                  shapely_point  \n",
       "0  POINT (144.2003114246874 -36.81403895485023)  \n",
       "1  POINT (144.2961591274601 -32.65050406973575)  \n",
       "2  POINT (147.6285480022147 -38.12646964189378)  \n",
       "3  POINT (144.4376906887518 -37.14916386980843)  \n",
       "4  POINT (147.1754281018382 -37.74878585769388)  "
      ]
     },
     "execution_count": 15,
     "metadata": {},
     "output_type": "execute_result"
    }
   ],
   "source": [
    "data.head()"
   ]
  },
  {
   "cell_type": "code",
   "execution_count": 16,
   "metadata": {},
   "outputs": [
    {
     "name": "stdout",
     "output_type": "stream",
     "text": [
      "\n",
      "Finished in 0:00:24.963884.\n"
     ]
    }
   ],
   "source": [
    "start = datetime.datetime.now()\n",
    "\n",
    "data['results'] = data['shapely_point'].apply(return_properties)\n",
    "data = pandas.concat([data, data['results'].apply(pandas.Series)], axis = 1)\n",
    "data.drop(['shapely_point', 'results', 'point'], axis = 1, inplace = True)\n",
    "\n",
    "print(\"\\nFinished in {}.\".format(datetime.datetime.now() - start))"
   ]
  },
  {
   "cell_type": "code",
   "execution_count": 17,
   "metadata": {},
   "outputs": [
    {
     "name": "stdout",
     "output_type": "stream",
     "text": [
      "    longitude   latitude        id                                      point  \\\n",
      "0  144.200311 -36.814039  unique_0  (144.20031142468736, -36.814038954850226)   \n",
      "1  144.296159 -32.650504  unique_1   (144.2961591274601, -32.650504069735746)   \n",
      "2  147.628548 -38.126470  unique_2  (147.62854800221467, -38.126469641893785)   \n",
      "3  144.437691 -37.149164  unique_3   (144.43769068875181, -37.14916386980843)   \n",
      "4  147.175428 -37.748786  unique_4   (147.17542810183818, -37.74878585769388)   \n",
      "\n",
      "  LGA_CODE16           LGA_NAME16 STE_CODE16 STE_NAME16  AREASQKM16  \n",
      "0      22620  Greater Bendigo (C)          2   Victoria   2999.9721  \n",
      "1        NaN                  NaN        NaN        NaN         NaN  \n",
      "2        NaN                  NaN        NaN        NaN         NaN  \n",
      "3      25430  Mount Alexander (S)          2   Victoria   1529.6184  \n",
      "4      26810       Wellington (S)          2   Victoria  10817.3346  \n"
     ]
    }
   ],
   "source": [
    "print(data.head())"
   ]
  },
  {
   "cell_type": "markdown",
   "metadata": {},
   "source": [
    "### Export"
   ]
  },
  {
   "cell_type": "code",
   "execution_count": 18,
   "metadata": {},
   "outputs": [],
   "source": [
    "data.to_csv('/users/danielcorcoran/desktop/test_points.csv', index = False)"
   ]
  },
  {
   "cell_type": "markdown",
   "metadata": {},
   "source": [
    "### Process (without apply)\n",
    "- Note this method is slower than the method above"
   ]
  },
  {
   "cell_type": "raw",
   "metadata": {},
   "source": [
    "start = datetime.datetime.now()\n",
    "\n",
    "\n",
    "for index in range(data.shape[0]):\n",
    "    \n",
    "    point = Point(data.loc[index, \"longitude\"], data.loc[index, \"latitude\"])\n",
    "      \n",
    "    for j in rtree_index.intersection(point.coords[0]):\n",
    "        \n",
    "        if point.within(shape(vic_polygons[j]['geometry'])):\n",
    "            for key in vic_polygons[j]['properties'].keys():\n",
    "                data.loc[index, 'SCRIPT_' + key] = vic_polygons[j]['properties'][key]\n",
    "            break\n",
    "            \n",
    "print(\"Finished in {}\".format(datetime.datetime.now() - start))"
   ]
  }
 ],
 "metadata": {
  "kernelspec": {
   "display_name": "Python 3",
   "language": "python",
   "name": "python3"
  },
  "language_info": {
   "codemirror_mode": {
    "name": "ipython",
    "version": 3
   },
   "file_extension": ".py",
   "mimetype": "text/x-python",
   "name": "python",
   "nbconvert_exporter": "python",
   "pygments_lexer": "ipython3",
   "version": "3.6.5"
  },
  "toc": {
   "base_numbering": 1,
   "nav_menu": {},
   "number_sections": true,
   "sideBar": true,
   "skip_h1_title": false,
   "title_cell": "Table of Contents",
   "title_sidebar": "Contents",
   "toc_cell": false,
   "toc_position": {
    "height": "calc(100% - 180px)",
    "left": "10px",
    "top": "150px",
    "width": "165px"
   },
   "toc_section_display": true,
   "toc_window_display": true
  },
  "varInspector": {
   "cols": {
    "lenName": 16,
    "lenType": 16,
    "lenVar": 40
   },
   "kernels_config": {
    "python": {
     "delete_cmd_postfix": "",
     "delete_cmd_prefix": "del ",
     "library": "var_list.py",
     "varRefreshCmd": "print(var_dic_list())"
    },
    "r": {
     "delete_cmd_postfix": ") ",
     "delete_cmd_prefix": "rm(",
     "library": "var_list.r",
     "varRefreshCmd": "cat(var_dic_list()) "
    }
   },
   "types_to_exclude": [
    "module",
    "function",
    "builtin_function_or_method",
    "instance",
    "_Feature"
   ],
   "window_display": false
  }
 },
 "nbformat": 4,
 "nbformat_minor": 2
}
